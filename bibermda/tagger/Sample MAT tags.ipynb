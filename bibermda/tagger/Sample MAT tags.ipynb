{
 "cells": [
  {
   "cell_type": "markdown",
   "id": "60d7e4c2",
   "metadata": {
    "pycharm": {
     "name": "#%% md\n"
    }
   },
   "source": [
    "## Sample MAT Tags\n",
    "\n",
    "Run sample text through the MAT tagger and find examples for testing our implementation. Built quick datasets for validation purposes"
   ]
  },
  {
   "cell_type": "code",
   "execution_count": 35,
   "id": "83bd3875",
   "metadata": {
    "pycharm": {
     "name": "#%%\n"
    }
   },
   "outputs": [
    {
     "name": "stderr",
     "output_type": "stream",
     "text": [
      "2023-02-10 22:32:58 INFO: Checking for updates to resources.json in case models have been updated.  Note: this behavior can be turned off with download_method=None or download_method=DownloadMethod.REUSE_RESOURCES\n"
     ]
    },
    {
     "data": {
      "application/vnd.jupyter.widget-view+json": {
       "model_id": "cce99709dd284d6bb0590bc5a71b18ea",
       "version_major": 2,
       "version_minor": 0
      },
      "text/plain": [
       "Downloading https://raw.githubusercontent.com/stanfordnlp/stanza-resources/main/resources_1.4.1.json:   0%|   …"
      ]
     },
     "metadata": {},
     "output_type": "display_data"
    },
    {
     "name": "stderr",
     "output_type": "stream",
     "text": [
      "2023-02-10 22:32:58 INFO: Loading these models for language: en (English):\n",
      "========================\n",
      "| Processor | Package  |\n",
      "------------------------\n",
      "| tokenize  | combined |\n",
      "| pos       | combined |\n",
      "========================\n",
      "\n",
      "2023-02-10 22:32:58 INFO: Use device: cpu\n",
      "2023-02-10 22:32:58 INFO: Loading: tokenize\n",
      "2023-02-10 22:32:58 INFO: Loading: pos\n",
      "2023-02-10 22:32:59 INFO: Done loading processors!\n"
     ]
    }
   ],
   "source": [
    "import re\n",
    "import stanza\n",
    "import numpy as np\n",
    "import pandas as pd\n",
    "\n",
    "from tqdm import tqdm\n",
    "\n",
    "pipeline = stanza.Pipeline(lang='en', processors='tokenize,pos', use_gpu=False)"
   ]
  },
  {
   "cell_type": "markdown",
   "id": "9a81c9bc",
   "metadata": {
    "pycharm": {
     "name": "#%% md\n"
    }
   },
   "source": [
    "### Brown Text Tag Samples"
   ]
  },
  {
   "cell_type": "code",
   "execution_count": 64,
   "id": "086a8e64",
   "metadata": {
    "pycharm": {
     "name": "#%%\n"
    }
   },
   "outputs": [
    {
     "name": "stdout",
     "output_type": "stream",
     "text": [
      "1181225\n"
     ]
    }
   ],
   "source": [
    "fp = '/Users/kalkiek/Documents/MDA Tagger/MAT_MDA Tagger/brown_MAT.txt'\n",
    "\n",
    "with open(fp, 'r') as f:\n",
    "    text = f.read()\n",
    "    lines = text.split('\\n')\n",
    "    print(len(lines))"
   ]
  },
  {
   "cell_type": "code",
   "execution_count": 44,
   "id": "9c772269",
   "metadata": {
    "pycharm": {
     "name": "#%%\n"
    }
   },
   "outputs": [],
   "source": [
    "s1 = \"stocking_NOMZ [WZPRES] [TSUB]\"\n",
    "s2 = \"stocking_VBG\""
   ]
  },
  {
   "cell_type": "code",
   "execution_count": 48,
   "id": "15ae8508",
   "metadata": {
    "pycharm": {
     "name": "#%%\n"
    }
   },
   "outputs": [
    {
     "name": "stdout",
     "output_type": "stream",
     "text": [
      "['stocking_NOMZ', '[WZPRES]', '[TSUB]']\n",
      "{'TSUB', 'WZPRES'}\n",
      "stocking NOMZ\n",
      "NOMZ\n"
     ]
    }
   ],
   "source": [
    "parts = s1.split(' ')\n",
    "print(parts)\n",
    "token, pos_tag = parts[0].split('_')\n",
    "if len(parts) > 1:\n",
    "    print(set(re.findall('\\[(.*?)\\]', s1)))\n",
    "\n",
    "print(token, pos_tag)\n",
    "\n",
    "if pos_tag not in pos_tags:\n",
    "    print(pos_tag)"
   ]
  },
  {
   "cell_type": "code",
   "execution_count": 68,
   "id": "7348de3c",
   "metadata": {
    "pycharm": {
     "name": "#%%\n"
    }
   },
   "outputs": [],
   "source": [
    "pos_tags = ['CC','CD','DT','EX','FW','IN','JJ','JJR','JJS','LS','MD','NN','NNS','NNP','NNPS','PDT','POS','PRP','PRP$','RB','RBR','RBS','RP','SYM','TO','UH','VB','VBD','VBG','VBN','VBP','VBZ','WDT','WP','WP$','WRB']\n",
    "\n",
    "\n",
    "def parse_token_and_tags(line):\n",
    "    all_tags = set()\n",
    "    parts = line.split(' ')\n",
    "    token, pos_tag = parts[0].split('_')\n",
    "        \n",
    "    if pos_tag not in pos_tags and len(pos_tag) >= 3:\n",
    "        all_tags.add(pos_tag)\n",
    "        \n",
    "    if len(parts) > 1:\n",
    "        tags = set(re.findall('\\[(.*?)\\]', line))\n",
    "        all_tags.update(tags)\n",
    "    \n",
    "    return token, all_tags\n",
    "    \n",
    "    \n",
    "def get_surrounding_context(lines, i, n=5):\n",
    "    total_lines = len(lines)\n",
    "    \n",
    "    if i - n < 0:\n",
    "        before = 0\n",
    "    else:\n",
    "        before = i - n\n",
    "        \n",
    "    if i + n == total_lines:\n",
    "        after = total_lines - 1\n",
    "    else:\n",
    "        after = i + n\n",
    "    \n",
    "    return lines[before:after]\n",
    "\n",
    "\n",
    "def parse_sentence_from_context(context_lines):\n",
    "    tokens = []\n",
    "    for context_line in context_lines:\n",
    "        tokens.append(parse_token(context_line))\n",
    "    return \" \".join(tokens)\n",
    "\n",
    "\n",
    "def get_all_unique_tags(lines):\n",
    "    all_tags = set()\n",
    "    for line in tqdm(lines):\n",
    "        try:\n",
    "            token, tags = parse_token_and_tags(line)\n",
    "            if tags:\n",
    "                all_tags.update(tags)\n",
    "        except Exception:\n",
    "            pass\n",
    "    return all_tags"
   ]
  },
  {
   "cell_type": "code",
   "execution_count": 69,
   "id": "e90879ce",
   "metadata": {
    "pycharm": {
     "name": "#%%\n"
    }
   },
   "outputs": [
    {
     "name": "stderr",
     "output_type": "stream",
     "text": [
      "100%|████████████████████████████████████████████████████████████████████████████████████████████████████| 1181225/1181225 [00:00<00:00, 1326938.84it/s]\n"
     ]
    },
    {
     "data": {
      "text/plain": [
       "65"
      ]
     },
     "execution_count": 69,
     "metadata": {},
     "output_type": "execute_result"
    }
   ],
   "source": [
    "unique_tags = get_all_unique_tags(lines)\n",
    "len(unique_tags)"
   ]
  },
  {
   "cell_type": "code",
   "execution_count": 70,
   "id": "a32444be",
   "metadata": {
    "pycharm": {
     "name": "#%%\n"
    }
   },
   "outputs": [
    {
     "data": {
      "text/plain": [
       "{'-LRB-',\n",
       " '-RRB-',\n",
       " 'AMP',\n",
       " 'ANDC',\n",
       " 'BEMA',\n",
       " 'BYPA',\n",
       " 'CAUS',\n",
       " 'CONC',\n",
       " 'COND',\n",
       " 'CONJ',\n",
       " 'CONT',\n",
       " 'DEMO',\n",
       " 'DEMP',\n",
       " 'DPAR',\n",
       " 'DWNT',\n",
       " 'EMPH',\n",
       " 'FPP1',\n",
       " 'GER',\n",
       " 'HDG',\n",
       " 'INPR',\n",
       " 'NEMD',\n",
       " 'NOMZ',\n",
       " 'NULL',\n",
       " 'OSUB',\n",
       " 'PASS',\n",
       " 'PASTP',\n",
       " 'PEAS',\n",
       " 'PHC',\n",
       " 'PIN',\n",
       " 'PIRE',\n",
       " 'PIT',\n",
       " 'PLACE',\n",
       " 'POMD',\n",
       " 'PRED',\n",
       " 'PRESP',\n",
       " 'PRIV',\n",
       " 'PRMD',\n",
       " 'PROD',\n",
       " 'PUBV',\n",
       " 'QUAN',\n",
       " 'QUPR',\n",
       " 'SERE',\n",
       " 'SMP',\n",
       " 'SPAU',\n",
       " 'SPIN',\n",
       " 'SPP2',\n",
       " 'STPR',\n",
       " 'SUAV',\n",
       " 'SYNE',\n",
       " 'THAC',\n",
       " 'THATD',\n",
       " 'THVC',\n",
       " 'TIME',\n",
       " 'TOBJ',\n",
       " 'TPP3',\n",
       " 'TSUB',\n",
       " 'VPRT',\n",
       " 'WHCL',\n",
       " 'WHOBJ',\n",
       " 'WHQU',\n",
       " 'WHSUB',\n",
       " 'WPS',\n",
       " 'WZPAST',\n",
       " 'WZPRES',\n",
       " 'XX0'}"
      ]
     },
     "execution_count": 70,
     "metadata": {},
     "output_type": "execute_result"
    }
   ],
   "source": [
    "unique_tags"
   ]
  },
  {
   "cell_type": "code",
   "execution_count": 71,
   "id": "c3282221",
   "metadata": {
    "pycharm": {
     "name": "#%%\n"
    }
   },
   "outputs": [
    {
     "data": {
      "text/html": [
       "<div>\n",
       "<style scoped>\n",
       "    .dataframe tbody tr th:only-of-type {\n",
       "        vertical-align: middle;\n",
       "    }\n",
       "\n",
       "    .dataframe tbody tr th {\n",
       "        vertical-align: top;\n",
       "    }\n",
       "\n",
       "    .dataframe thead th {\n",
       "        text-align: right;\n",
       "    }\n",
       "</style>\n",
       "<table border=\"1\" class=\"dataframe\">\n",
       "  <thead>\n",
       "    <tr style=\"text-align: right;\">\n",
       "      <th></th>\n",
       "      <th>keyword</th>\n",
       "      <th>tag</th>\n",
       "      <th>sentence</th>\n",
       "    </tr>\n",
       "  </thead>\n",
       "  <tbody>\n",
       "    <tr>\n",
       "      <th>0</th>\n",
       "      <td>said</td>\n",
       "      <td>PUBV</td>\n",
       "      <td>The Fulton County Grand Jury said Friday an in...</td>\n",
       "    </tr>\n",
       "    <tr>\n",
       "      <th>1</th>\n",
       "      <td>investigation</td>\n",
       "      <td>NOMZ</td>\n",
       "      <td>The Fulton County Grand Jury said Friday an in...</td>\n",
       "    </tr>\n",
       "    <tr>\n",
       "      <th>2</th>\n",
       "      <td>of</td>\n",
       "      <td>PIN</td>\n",
       "      <td>The Fulton County Grand Jury said Friday an in...</td>\n",
       "    </tr>\n",
       "    <tr>\n",
       "      <th>3</th>\n",
       "      <td>election</td>\n",
       "      <td>NOMZ</td>\n",
       "      <td>Jury said Friday an investigation of Atlanta '...</td>\n",
       "    </tr>\n",
       "    <tr>\n",
       "      <th>4</th>\n",
       "      <td>no</td>\n",
       "      <td>SYNE</td>\n",
       "      <td>an investigation of Atlanta 's recent primary ...</td>\n",
       "    </tr>\n",
       "  </tbody>\n",
       "</table>\n",
       "</div>"
      ],
      "text/plain": [
       "         keyword   tag                                           sentence\n",
       "0           said  PUBV  The Fulton County Grand Jury said Friday an in...\n",
       "1  investigation  NOMZ  The Fulton County Grand Jury said Friday an in...\n",
       "2             of   PIN  The Fulton County Grand Jury said Friday an in...\n",
       "3       election  NOMZ  Jury said Friday an investigation of Atlanta '...\n",
       "4             no  SYNE  an investigation of Atlanta 's recent primary ..."
      ]
     },
     "execution_count": 71,
     "metadata": {},
     "output_type": "execute_result"
    }
   ],
   "source": [
    "rows = []\n",
    "\n",
    "for i, line in enumerate(lines):\n",
    "    try:\n",
    "        token, tags = parse_token_and_tags(line)\n",
    "        if tags:\n",
    "            context_lines = get_surrounding_context(lines, i, n=10)\n",
    "            sentence = parse_sentence_from_context(context_lines)\n",
    "            for tag in tags:\n",
    "                rows.append({\n",
    "                    'keyword': token,\n",
    "                    'tag': tag,\n",
    "                    'sentence': sentence\n",
    "                })\n",
    "    except Exception:\n",
    "        pass\n",
    "        \n",
    "df = pd.DataFrame(rows)\n",
    "df.head()"
   ]
  },
  {
   "cell_type": "code",
   "execution_count": 72,
   "id": "d4e0783b",
   "metadata": {
    "pycharm": {
     "name": "#%%\n"
    }
   },
   "outputs": [
    {
     "data": {
      "text/plain": [
       "451399"
      ]
     },
     "execution_count": 72,
     "metadata": {},
     "output_type": "execute_result"
    }
   ],
   "source": [
    "len(df)"
   ]
  },
  {
   "cell_type": "markdown",
   "id": "e3acd8ce",
   "metadata": {
    "pycharm": {
     "name": "#%% md\n"
    }
   },
   "source": [
    "**Select samples for each tag**"
   ]
  },
  {
   "cell_type": "code",
   "execution_count": 73,
   "id": "86765c52",
   "metadata": {
    "pycharm": {
     "name": "#%%\n"
    }
   },
   "outputs": [],
   "source": [
    "df.to_csv('brown_tags.tsv', sep='\\t', index=False)"
   ]
  },
  {
   "cell_type": "code",
   "execution_count": 74,
   "id": "f7367b17",
   "metadata": {
    "pycharm": {
     "name": "#%%\n"
    }
   },
   "outputs": [
    {
     "data": {
      "text/html": [
       "<div>\n",
       "<style scoped>\n",
       "    .dataframe tbody tr th:only-of-type {\n",
       "        vertical-align: middle;\n",
       "    }\n",
       "\n",
       "    .dataframe tbody tr th {\n",
       "        vertical-align: top;\n",
       "    }\n",
       "\n",
       "    .dataframe thead th {\n",
       "        text-align: right;\n",
       "    }\n",
       "</style>\n",
       "<table border=\"1\" class=\"dataframe\">\n",
       "  <thead>\n",
       "    <tr style=\"text-align: right;\">\n",
       "      <th></th>\n",
       "      <th>keyword</th>\n",
       "      <th>tag</th>\n",
       "      <th>sentence</th>\n",
       "    </tr>\n",
       "  </thead>\n",
       "  <tbody>\n",
       "    <tr>\n",
       "      <th>86776</th>\n",
       "      <td>-LRB-</td>\n",
       "      <td>-LRB-</td>\n",
       "      <td>was he who turned the attention of William Llo...</td>\n",
       "    </tr>\n",
       "    <tr>\n",
       "      <th>230118</th>\n",
       "      <td>-LRB-</td>\n",
       "      <td>-LRB-</td>\n",
       "      <td>, And with never a glance at the sky . -LRB- O...</td>\n",
       "    </tr>\n",
       "    <tr>\n",
       "      <th>59588</th>\n",
       "      <td>-LRB-</td>\n",
       "      <td>-LRB-</td>\n",
       "      <td>Sutherland first sang Lucia at Covent Garden i...</td>\n",
       "    </tr>\n",
       "    <tr>\n",
       "      <th>112060</th>\n",
       "      <td>-LRB-</td>\n",
       "      <td>-LRB-</td>\n",
       "      <td>. As an aid in the prevention of bacterial dia...</td>\n",
       "    </tr>\n",
       "    <tr>\n",
       "      <th>51503</th>\n",
       "      <td>-LRB-</td>\n",
       "      <td>-LRB-</td>\n",
       "      <td>hand : &lt;The Nation&gt; , Walter Lippmann and othe...</td>\n",
       "    </tr>\n",
       "  </tbody>\n",
       "</table>\n",
       "</div>"
      ],
      "text/plain": [
       "       keyword    tag                                           sentence\n",
       "86776    -LRB-  -LRB-  was he who turned the attention of William Llo...\n",
       "230118   -LRB-  -LRB-  , And with never a glance at the sky . -LRB- O...\n",
       "59588    -LRB-  -LRB-  Sutherland first sang Lucia at Covent Garden i...\n",
       "112060   -LRB-  -LRB-  . As an aid in the prevention of bacterial dia...\n",
       "51503    -LRB-  -LRB-  hand : <The Nation> , Walter Lippmann and othe..."
      ]
     },
     "execution_count": 74,
     "metadata": {},
     "output_type": "execute_result"
    }
   ],
   "source": [
    "sample_df = df.groupby(\"tag\").sample(n=25, random_state=1)\n",
    "sample_df.head()"
   ]
  },
  {
   "cell_type": "code",
   "execution_count": 75,
   "id": "c2287236",
   "metadata": {
    "pycharm": {
     "name": "#%%\n"
    }
   },
   "outputs": [],
   "source": [
    "sample_df.to_csv('brown_sample_tags.tsv', sep='\\t', index=False)"
   ]
  },
  {
   "cell_type": "markdown",
   "id": "0bb75b16",
   "metadata": {
    "pycharm": {
     "name": "#%% md\n"
    }
   },
   "source": [
    "### Amazon Reviews Sample Text"
   ]
  },
  {
   "cell_type": "code",
   "execution_count": null,
   "id": "10e5e7b3",
   "metadata": {
    "pycharm": {
     "name": "#%%\n"
    }
   },
   "outputs": [],
   "source": [
    "# First time setup\n",
    "fp = '/Users/kalkiek/Downloads/amazon_review_full_csv/test.csv'\n",
    "out = '/Users/kalkiek/Downloads/amazon_review_full_csv/amazon_test.txt'\n",
    "\n",
    "amazon_df = pd.read_csv(fp, names=['title', 'text'])\n",
    "\n",
    "with open(out, 'w') as f:\n",
    "    for index, row in amazon_df.iterrows():\n",
    "        f.write(row['text'] + '\\n')"
   ]
  },
  {
   "cell_type": "code",
   "execution_count": 76,
   "id": "be061db8",
   "metadata": {
    "pycharm": {
     "name": "#%%\n"
    }
   },
   "outputs": [
    {
     "name": "stdout",
     "output_type": "stream",
     "text": [
      "57045406\n"
     ]
    }
   ],
   "source": [
    "fp = '/Users/kalkiek/Documents/MDA Tagger/MAT_MDA Tagger/amazon_test_MAT.txt'\n",
    "\n",
    "with open(fp, 'r') as f:\n",
    "    text = f.read()\n",
    "    lines = text.split('\\n')\n",
    "    print(len(lines))"
   ]
  },
  {
   "cell_type": "code",
   "execution_count": 78,
   "id": "42b9dcf6",
   "metadata": {
    "pycharm": {
     "name": "#%%\n"
    }
   },
   "outputs": [
    {
     "name": "stderr",
     "output_type": "stream",
     "text": [
      "57045406it [02:30, 378073.51it/s]\n"
     ]
    },
    {
     "data": {
      "text/html": [
       "<div>\n",
       "<style scoped>\n",
       "    .dataframe tbody tr th:only-of-type {\n",
       "        vertical-align: middle;\n",
       "    }\n",
       "\n",
       "    .dataframe tbody tr th {\n",
       "        vertical-align: top;\n",
       "    }\n",
       "\n",
       "    .dataframe thead th {\n",
       "        text-align: right;\n",
       "    }\n",
       "</style>\n",
       "<table border=\"1\" class=\"dataframe\">\n",
       "  <thead>\n",
       "    <tr style=\"text-align: right;\">\n",
       "      <th></th>\n",
       "      <th>keyword</th>\n",
       "      <th>tag</th>\n",
       "      <th>sentence</th>\n",
       "    </tr>\n",
       "  </thead>\n",
       "  <tbody>\n",
       "    <tr>\n",
       "      <th>0</th>\n",
       "      <td>This</td>\n",
       "      <td>DEMO</td>\n",
       "      <td>This model may be ok for sedentary types , but</td>\n",
       "    </tr>\n",
       "    <tr>\n",
       "      <th>1</th>\n",
       "      <td>may</td>\n",
       "      <td>POMD</td>\n",
       "      <td>This model may be ok for sedentary types , but...</td>\n",
       "    </tr>\n",
       "    <tr>\n",
       "      <th>2</th>\n",
       "      <td>be</td>\n",
       "      <td>PASS</td>\n",
       "      <td>This model may be ok for sedentary types , but...</td>\n",
       "    </tr>\n",
       "    <tr>\n",
       "      <th>3</th>\n",
       "      <td>for</td>\n",
       "      <td>PIN</td>\n",
       "      <td>This model may be ok for sedentary types , but...</td>\n",
       "    </tr>\n",
       "    <tr>\n",
       "      <th>4</th>\n",
       "      <td>I</td>\n",
       "      <td>FPP1</td>\n",
       "      <td>This model may be ok for sedentary types , but...</td>\n",
       "    </tr>\n",
       "  </tbody>\n",
       "</table>\n",
       "</div>"
      ],
      "text/plain": [
       "  keyword   tag                                           sentence\n",
       "0    This  DEMO     This model may be ok for sedentary types , but\n",
       "1     may  POMD  This model may be ok for sedentary types , but...\n",
       "2      be  PASS  This model may be ok for sedentary types , but...\n",
       "3     for   PIN  This model may be ok for sedentary types , but...\n",
       "4       I  FPP1  This model may be ok for sedentary types , but..."
      ]
     },
     "execution_count": 78,
     "metadata": {},
     "output_type": "execute_result"
    }
   ],
   "source": [
    "rows = []\n",
    "\n",
    "for i, line in tqdm(enumerate(lines)):\n",
    "    try:\n",
    "        token, tags = parse_token_and_tags(line)\n",
    "        if tags:\n",
    "            context_lines = get_surrounding_context(lines, i, n=10)\n",
    "            sentence = parse_sentence_from_context(context_lines)\n",
    "            for tag in tags:\n",
    "                rows.append({\n",
    "                    'keyword': token,\n",
    "                    'tag': tag,\n",
    "                    'sentence': sentence\n",
    "                })\n",
    "    except Exception:\n",
    "        pass\n",
    "        \n",
    "df = pd.DataFrame(rows)\n",
    "df.head()"
   ]
  },
  {
   "cell_type": "code",
   "execution_count": 79,
   "id": "79acc758",
   "metadata": {
    "pycharm": {
     "name": "#%%\n"
    }
   },
   "outputs": [
    {
     "data": {
      "text/plain": [
       "PIN      4184355\n",
       "VPRT     3446983\n",
       "FPP1     2094875\n",
       "BEMA     1410347\n",
       "PIT      1244208\n",
       "          ...   \n",
       "WHQU       18300\n",
       "SPIN       12731\n",
       "PIRE       10737\n",
       "WHOBJ       8836\n",
       "WPS         2319\n",
       "Name: tag, Length: 65, dtype: int64"
      ]
     },
     "execution_count": 79,
     "metadata": {},
     "output_type": "execute_result"
    }
   ],
   "source": [
    "df['tag'].value_counts()"
   ]
  },
  {
   "cell_type": "code",
   "execution_count": 80,
   "id": "990058c0",
   "metadata": {
    "pycharm": {
     "name": "#%%\n"
    }
   },
   "outputs": [
    {
     "name": "stdout",
     "output_type": "stream",
     "text": [
      "25731593\n",
      "65\n"
     ]
    }
   ],
   "source": [
    "print(len(df))\n",
    "print(len(df['tag'].unique()))"
   ]
  },
  {
   "cell_type": "code",
   "execution_count": 81,
   "id": "36995e43",
   "metadata": {
    "pycharm": {
     "name": "#%%\n"
    }
   },
   "outputs": [],
   "source": [
    "df.to_csv('amazon_tags.tsv', sep='\\t', index=False)"
   ]
  },
  {
   "cell_type": "code",
   "execution_count": 82,
   "id": "40dc3c9e",
   "metadata": {
    "pycharm": {
     "name": "#%%\n"
    }
   },
   "outputs": [
    {
     "data": {
      "text/html": [
       "<div>\n",
       "<style scoped>\n",
       "    .dataframe tbody tr th:only-of-type {\n",
       "        vertical-align: middle;\n",
       "    }\n",
       "\n",
       "    .dataframe tbody tr th {\n",
       "        vertical-align: top;\n",
       "    }\n",
       "\n",
       "    .dataframe thead th {\n",
       "        text-align: right;\n",
       "    }\n",
       "</style>\n",
       "<table border=\"1\" class=\"dataframe\">\n",
       "  <thead>\n",
       "    <tr style=\"text-align: right;\">\n",
       "      <th></th>\n",
       "      <th>keyword</th>\n",
       "      <th>tag</th>\n",
       "      <th>sentence</th>\n",
       "    </tr>\n",
       "  </thead>\n",
       "  <tbody>\n",
       "    <tr>\n",
       "      <th>4019219</th>\n",
       "      <td>-LRB-</td>\n",
       "      <td>-LRB-</td>\n",
       "      <td>Ties takes numerous nails . It was a lifesaver...</td>\n",
       "    </tr>\n",
       "    <tr>\n",
       "      <th>14368694</th>\n",
       "      <td>-LRB-</td>\n",
       "      <td>-LRB-</td>\n",
       "      <td>The DHCP Client Tables would not update and my...</td>\n",
       "    </tr>\n",
       "    <tr>\n",
       "      <th>16629196</th>\n",
       "      <td>-LRB-</td>\n",
       "      <td>-LRB-</td>\n",
       "      <td>8:07 -RRB- 2 . Your love is taking me over -LR...</td>\n",
       "    </tr>\n",
       "    <tr>\n",
       "      <th>8073761</th>\n",
       "      <td>-LRB-</td>\n",
       "      <td>-LRB-</td>\n",
       "      <td>the trip , the maps look like what we need -LR...</td>\n",
       "    </tr>\n",
       "    <tr>\n",
       "      <th>24299634</th>\n",
       "      <td>-LRB-</td>\n",
       "      <td>-LRB-</td>\n",
       "      <td>a religious person , and I 've even gotten int...</td>\n",
       "    </tr>\n",
       "  </tbody>\n",
       "</table>\n",
       "</div>"
      ],
      "text/plain": [
       "         keyword    tag                                           sentence\n",
       "4019219    -LRB-  -LRB-  Ties takes numerous nails . It was a lifesaver...\n",
       "14368694   -LRB-  -LRB-  The DHCP Client Tables would not update and my...\n",
       "16629196   -LRB-  -LRB-  8:07 -RRB- 2 . Your love is taking me over -LR...\n",
       "8073761    -LRB-  -LRB-  the trip , the maps look like what we need -LR...\n",
       "24299634   -LRB-  -LRB-  a religious person , and I 've even gotten int..."
      ]
     },
     "execution_count": 82,
     "metadata": {},
     "output_type": "execute_result"
    }
   ],
   "source": [
    "sample_df = df.groupby(\"tag\").sample(n=25, random_state=1)\n",
    "sample_df.head()"
   ]
  },
  {
   "cell_type": "code",
   "execution_count": 83,
   "id": "a2e6378b",
   "metadata": {
    "pycharm": {
     "name": "#%%\n"
    }
   },
   "outputs": [],
   "source": [
    "sample_df.to_csv('amazon_sample_tags.tsv', sep='\\t', index=False)"
   ]
  }
 ],
 "metadata": {
  "kernelspec": {
   "display_name": "Python 3 (ipykernel)",
   "language": "python",
   "name": "python3"
  },
  "language_info": {
   "codemirror_mode": {
    "name": "ipython",
    "version": 3
   },
   "file_extension": ".py",
   "mimetype": "text/x-python",
   "name": "python",
   "nbconvert_exporter": "python",
   "pygments_lexer": "ipython3",
   "version": "3.9.6"
  }
 },
 "nbformat": 4,
 "nbformat_minor": 5
}