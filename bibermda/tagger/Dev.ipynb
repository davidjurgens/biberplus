{
 "cells": [
  {
   "cell_type": "code",
   "execution_count": 1,
   "id": "123d1bff",
   "metadata": {
    "pycharm": {
     "name": "#%%\n"
    }
   },
   "outputs": [
    {
     "name": "stderr",
     "output_type": "stream",
     "text": [
      "2023-02-28 11:05:13 INFO: Checking for updates to resources.json in case models have been updated.  Note: this behavior can be turned off with download_method=None or download_method=DownloadMethod.REUSE_RESOURCES\n"
     ]
    },
    {
     "data": {
      "application/vnd.jupyter.widget-view+json": {
       "model_id": "",
       "version_major": 2,
       "version_minor": 0
      },
      "text/plain": [
       "Downloading https://raw.githubusercontent.com/stanfordnlp/stanza-resources/main/resources_1.4.1.json:   0%|   …"
      ]
     },
     "metadata": {},
     "output_type": "display_data"
    },
    {
     "name": "stderr",
     "output_type": "stream",
     "text": [
      "2023-02-28 11:05:14 INFO: Loading these models for language: en (English):\n",
      "========================\n",
      "| Processor | Package  |\n",
      "------------------------\n",
      "| tokenize  | combined |\n",
      "| pos       | combined |\n",
      "========================\n",
      "\n",
      "2023-02-28 11:05:14 INFO: Use device: cpu\n",
      "2023-02-28 11:05:14 INFO: Loading: tokenize\n",
      "2023-02-28 11:05:14 INFO: Loading: pos\n",
      "2023-02-28 11:05:14 INFO: Done loading processors!\n"
     ]
    }
   ],
   "source": [
    "import stanza\n",
    "\n",
    "pipeline = stanza.Pipeline(lang='en', processors='tokenize,pos', use_gpu=False)"
   ]
  },
  {
   "cell_type": "code",
   "execution_count": 12,
   "id": "3e0ccaa5",
   "metadata": {
    "pycharm": {
     "name": "#%%\n"
    }
   },
   "outputs": [
    {
     "name": "stdout",
     "output_type": "stream",
     "text": [
      "1\n",
      "2\n",
      "3\n",
      "4\n"
     ]
    }
   ],
   "source": [
    "for i in range(1, 5):\n",
    "    print(i)"
   ]
  },
  {
   "cell_type": "code",
   "execution_count": 8,
   "id": "42f88dae",
   "metadata": {
    "pycharm": {
     "name": "#%%\n"
    }
   },
   "outputs": [],
   "source": [
    "doc = pipeline('the dog that I saw')"
   ]
  },
  {
   "cell_type": "code",
   "execution_count": 19,
   "id": "2f8dca0b",
   "metadata": {
    "pycharm": {
     "name": "#%%\n"
    }
   },
   "outputs": [
    {
     "data": {
      "text/plain": [
       "1.0"
      ]
     },
     "execution_count": 19,
     "metadata": {},
     "output_type": "execute_result"
    }
   ],
   "source": [
    "words = list(doc.iter_words())\n",
    "unique_vocab = set()\n",
    "\n",
    "for word in words:\n",
    "    unique_vocab.add(word.text.lower())\n",
    "    \n",
    "len(unique_vocab) / len(words)"
   ]
  },
  {
   "cell_type": "code",
   "execution_count": 9,
   "id": "942dd43b",
   "metadata": {
    "scrolled": false,
    "pycharm": {
     "name": "#%%\n"
    }
   },
   "outputs": [
    {
     "name": "stdout",
     "output_type": "stream",
     "text": [
      "{\n",
      "  \"id\": 1,\n",
      "  \"text\": \"the\",\n",
      "  \"upos\": \"DET\",\n",
      "  \"xpos\": \"DT\",\n",
      "  \"feats\": \"Definite=Def|PronType=Art\",\n",
      "  \"start_char\": 0,\n",
      "  \"end_char\": 3\n",
      "}\n",
      "{\n",
      "  \"id\": 2,\n",
      "  \"text\": \"dog\",\n",
      "  \"upos\": \"NOUN\",\n",
      "  \"xpos\": \"NN\",\n",
      "  \"feats\": \"Number=Sing\",\n",
      "  \"start_char\": 4,\n",
      "  \"end_char\": 7\n",
      "}\n",
      "{\n",
      "  \"id\": 3,\n",
      "  \"text\": \"that\",\n",
      "  \"upos\": \"PRON\",\n",
      "  \"xpos\": \"WDT\",\n",
      "  \"feats\": \"PronType=Rel\",\n",
      "  \"start_char\": 8,\n",
      "  \"end_char\": 12\n",
      "}\n",
      "{\n",
      "  \"id\": 4,\n",
      "  \"text\": \"I\",\n",
      "  \"upos\": \"PRON\",\n",
      "  \"xpos\": \"PRP\",\n",
      "  \"feats\": \"Case=Nom|Number=Sing|Person=1|PronType=Prs\",\n",
      "  \"start_char\": 13,\n",
      "  \"end_char\": 14\n",
      "}\n",
      "{\n",
      "  \"id\": 5,\n",
      "  \"text\": \"saw\",\n",
      "  \"upos\": \"VERB\",\n",
      "  \"xpos\": \"VBD\",\n",
      "  \"feats\": \"Mood=Ind|Number=Sing|Person=1|Tense=Past|VerbForm=Fin\",\n",
      "  \"start_char\": 15,\n",
      "  \"end_char\": 18\n",
      "}\n"
     ]
    }
   ],
   "source": [
    "for word in doc.iter_words():\n",
    "    print(word)"
   ]
  },
  {
   "cell_type": "code",
   "execution_count": null,
   "id": "ba29b6a0",
   "metadata": {
    "pycharm": {
     "name": "#%%\n"
    }
   },
   "outputs": [],
   "source": [
    "import stanza\n",
    "\n",
    "pipeline = stanza.Pipeline(lang='en', processors='tokenize,pos', use_gpu=False)"
   ]
  },
  {
   "cell_type": "code",
   "execution_count": null,
   "id": "cd114c5a",
   "metadata": {
    "pycharm": {
     "name": "#%%\n"
    }
   },
   "outputs": [],
   "source": [
    "test = \"I dont think it was as good as Suicide Notes and Butterfly Kisses . They should try to be as\""
   ]
  },
  {
   "cell_type": "code",
   "execution_count": null,
   "id": "9e4ad44b",
   "metadata": {
    "pycharm": {
     "name": "#%%\n"
    },
    "scrolled": false
   },
   "outputs": [],
   "source": [
    "pipeline(test)"
   ]
  }
 ],
 "metadata": {
  "kernelspec": {
   "display_name": "Python 3 (ipykernel)",
   "language": "python",
   "name": "python3"
  },
  "language_info": {
   "codemirror_mode": {
    "name": "ipython",
    "version": 3
   },
   "file_extension": ".py",
   "mimetype": "text/x-python",
   "name": "python",
   "nbconvert_exporter": "python",
   "pygments_lexer": "ipython3",
   "version": "3.9.6"
  }
 },
 "nbformat": 4,
 "nbformat_minor": 5
}