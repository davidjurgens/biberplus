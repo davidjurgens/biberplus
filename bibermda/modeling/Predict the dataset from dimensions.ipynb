{
 "cells": [
  {
   "cell_type": "code",
   "execution_count": 1,
   "metadata": {
    "pycharm": {
     "name": "#%%\n"
    }
   },
   "outputs": [],
   "source": [
    "import sys\n",
    "import numpy as np\n",
    "import pandas as pd\n",
    "import seaborn as sns\n",
    "\n",
    "sys.path.append('../..')\n",
    "\n",
    "from tqdm import tqdm"
   ]
  },
  {
   "cell_type": "markdown",
   "metadata": {},
   "source": [
    "**Read in the author dimensions from the sample of the dataset**\n",
    "\n",
    "1k samples from 6 different dataset"
   ]
  },
  {
   "cell_type": "code",
   "execution_count": 2,
   "metadata": {},
   "outputs": [
    {
     "data": {
      "text/html": [
       "<div>\n",
       "<style scoped>\n",
       "    .dataframe tbody tr th:only-of-type {\n",
       "        vertical-align: middle;\n",
       "    }\n",
       "\n",
       "    .dataframe tbody tr th {\n",
       "        vertical-align: top;\n",
       "    }\n",
       "\n",
       "    .dataframe thead th {\n",
       "        text-align: right;\n",
       "    }\n",
       "</style>\n",
       "<table border=\"1\" class=\"dataframe\">\n",
       "  <thead>\n",
       "    <tr style=\"text-align: right;\">\n",
       "      <th></th>\n",
       "      <th>1</th>\n",
       "      <th>2</th>\n",
       "      <th>3</th>\n",
       "      <th>4</th>\n",
       "      <th>5</th>\n",
       "      <th>6</th>\n",
       "      <th>author</th>\n",
       "      <th>dataset</th>\n",
       "    </tr>\n",
       "  </thead>\n",
       "  <tbody>\n",
       "    <tr>\n",
       "      <th>0</th>\n",
       "      <td>10.543596</td>\n",
       "      <td>-7.248454</td>\n",
       "      <td>2.280966</td>\n",
       "      <td>-8.765124</td>\n",
       "      <td>-2.670088</td>\n",
       "      <td>-3.314122</td>\n",
       "      <td>AQUU8S55JGY2H</td>\n",
       "      <td>Amazon</td>\n",
       "    </tr>\n",
       "    <tr>\n",
       "      <th>1</th>\n",
       "      <td>10.059491</td>\n",
       "      <td>-5.222700</td>\n",
       "      <td>1.584616</td>\n",
       "      <td>-8.513468</td>\n",
       "      <td>-2.373329</td>\n",
       "      <td>-3.363592</td>\n",
       "      <td>52e43081-58d7-8abe-f41c-a2c2e4db7097</td>\n",
       "      <td>News</td>\n",
       "    </tr>\n",
       "    <tr>\n",
       "      <th>2</th>\n",
       "      <td>10.185978</td>\n",
       "      <td>-7.119931</td>\n",
       "      <td>2.117917</td>\n",
       "      <td>-9.153395</td>\n",
       "      <td>-1.676906</td>\n",
       "      <td>-3.495074</td>\n",
       "      <td>766dfe84-dae8-e013-b57d-2b4cc532076d</td>\n",
       "      <td>Reddit</td>\n",
       "    </tr>\n",
       "    <tr>\n",
       "      <th>3</th>\n",
       "      <td>9.926020</td>\n",
       "      <td>-6.814032</td>\n",
       "      <td>2.528302</td>\n",
       "      <td>-9.115703</td>\n",
       "      <td>-1.872013</td>\n",
       "      <td>-3.415709</td>\n",
       "      <td>6309556.0</td>\n",
       "      <td>Wiki</td>\n",
       "    </tr>\n",
       "    <tr>\n",
       "      <th>4</th>\n",
       "      <td>9.184673</td>\n",
       "      <td>-7.017368</td>\n",
       "      <td>1.604767</td>\n",
       "      <td>-9.206371</td>\n",
       "      <td>-1.386046</td>\n",
       "      <td>-3.495074</td>\n",
       "      <td>5641591.0</td>\n",
       "      <td>Wiki</td>\n",
       "    </tr>\n",
       "  </tbody>\n",
       "</table>\n",
       "</div>"
      ],
      "text/plain": [
       "           1         2         3         4         5         6  \\\n",
       "0  10.543596 -7.248454  2.280966 -8.765124 -2.670088 -3.314122   \n",
       "1  10.059491 -5.222700  1.584616 -8.513468 -2.373329 -3.363592   \n",
       "2  10.185978 -7.119931  2.117917 -9.153395 -1.676906 -3.495074   \n",
       "3   9.926020 -6.814032  2.528302 -9.115703 -1.872013 -3.415709   \n",
       "4   9.184673 -7.017368  1.604767 -9.206371 -1.386046 -3.495074   \n",
       "\n",
       "                                 author dataset  \n",
       "0                         AQUU8S55JGY2H  Amazon  \n",
       "1  52e43081-58d7-8abe-f41c-a2c2e4db7097    News  \n",
       "2  766dfe84-dae8-e013-b57d-2b4cc532076d  Reddit  \n",
       "3                             6309556.0    Wiki  \n",
       "4                             5641591.0    Wiki  "
      ]
     },
     "execution_count": 2,
     "metadata": {},
     "output_type": "execute_result"
    }
   ],
   "source": [
    "dim_df = pd.read_csv('../analyzer/author_dimensions.csv')\n",
    "dim_df.head()"
   ]
  },
  {
   "cell_type": "markdown",
   "metadata": {},
   "source": [
    "**Shuffle and split 80/20 train/test**"
   ]
  },
  {
   "cell_type": "code",
   "execution_count": 3,
   "metadata": {},
   "outputs": [
    {
     "name": "stdout",
     "output_type": "stream",
     "text": [
      "4800 1200\n"
     ]
    }
   ],
   "source": [
    "from sklearn.model_selection import train_test_split\n",
    "\n",
    "train, test = train_test_split(dim_df, test_size=0.2)\n",
    "\n",
    "print(len(train), len(test))"
   ]
  },
  {
   "cell_type": "markdown",
   "metadata": {},
   "source": [
    "**Calculate the average dimension for each dataset in the training**"
   ]
  },
  {
   "cell_type": "code",
   "execution_count": 4,
   "metadata": {},
   "outputs": [
    {
     "name": "stderr",
     "output_type": "stream",
     "text": [
      "/var/folders/6y/4xz13f9n0n18x94nx555hjpw0000gr/T/ipykernel_47380/1861058128.py:1: FutureWarning: The default value of numeric_only in DataFrameGroupBy.mean is deprecated. In a future version, numeric_only will default to False. Either specify numeric_only or select only columns which should be valid for the function.\n",
      "  avg_dims = train.groupby('dataset').mean().reset_index()\n"
     ]
    },
    {
     "data": {
      "text/html": [
       "<div>\n",
       "<style scoped>\n",
       "    .dataframe tbody tr th:only-of-type {\n",
       "        vertical-align: middle;\n",
       "    }\n",
       "\n",
       "    .dataframe tbody tr th {\n",
       "        vertical-align: top;\n",
       "    }\n",
       "\n",
       "    .dataframe thead th {\n",
       "        text-align: right;\n",
       "    }\n",
       "</style>\n",
       "<table border=\"1\" class=\"dataframe\">\n",
       "  <thead>\n",
       "    <tr style=\"text-align: right;\">\n",
       "      <th></th>\n",
       "      <th>dataset</th>\n",
       "      <th>1</th>\n",
       "      <th>2</th>\n",
       "      <th>3</th>\n",
       "      <th>4</th>\n",
       "      <th>5</th>\n",
       "      <th>6</th>\n",
       "    </tr>\n",
       "  </thead>\n",
       "  <tbody>\n",
       "    <tr>\n",
       "      <th>0</th>\n",
       "      <td>Amazon</td>\n",
       "      <td>11.208473</td>\n",
       "      <td>-6.804783</td>\n",
       "      <td>1.522273</td>\n",
       "      <td>-8.688303</td>\n",
       "      <td>-3.023598</td>\n",
       "      <td>-3.250868</td>\n",
       "    </tr>\n",
       "    <tr>\n",
       "      <th>1</th>\n",
       "      <td>BookCorpus</td>\n",
       "      <td>10.806541</td>\n",
       "      <td>-6.160398</td>\n",
       "      <td>1.626548</td>\n",
       "      <td>-8.595062</td>\n",
       "      <td>-2.561371</td>\n",
       "      <td>-3.295711</td>\n",
       "    </tr>\n",
       "    <tr>\n",
       "      <th>2</th>\n",
       "      <td>News</td>\n",
       "      <td>10.288745</td>\n",
       "      <td>-6.444490</td>\n",
       "      <td>1.767976</td>\n",
       "      <td>-8.625911</td>\n",
       "      <td>-2.424236</td>\n",
       "      <td>-3.293737</td>\n",
       "    </tr>\n",
       "    <tr>\n",
       "      <th>3</th>\n",
       "      <td>Pubmed</td>\n",
       "      <td>9.466732</td>\n",
       "      <td>-6.710433</td>\n",
       "      <td>2.091154</td>\n",
       "      <td>-8.770406</td>\n",
       "      <td>-1.767003</td>\n",
       "      <td>-3.243699</td>\n",
       "    </tr>\n",
       "    <tr>\n",
       "      <th>4</th>\n",
       "      <td>Reddit</td>\n",
       "      <td>11.344668</td>\n",
       "      <td>-6.870468</td>\n",
       "      <td>1.528881</td>\n",
       "      <td>-8.603828</td>\n",
       "      <td>-3.146088</td>\n",
       "      <td>-3.338387</td>\n",
       "    </tr>\n",
       "    <tr>\n",
       "      <th>5</th>\n",
       "      <td>Wiki</td>\n",
       "      <td>9.829144</td>\n",
       "      <td>-6.853391</td>\n",
       "      <td>1.739694</td>\n",
       "      <td>-9.096389</td>\n",
       "      <td>-2.428304</td>\n",
       "      <td>-3.437767</td>\n",
       "    </tr>\n",
       "  </tbody>\n",
       "</table>\n",
       "</div>"
      ],
      "text/plain": [
       "      dataset          1         2         3         4         5         6\n",
       "0      Amazon  11.208473 -6.804783  1.522273 -8.688303 -3.023598 -3.250868\n",
       "1  BookCorpus  10.806541 -6.160398  1.626548 -8.595062 -2.561371 -3.295711\n",
       "2        News  10.288745 -6.444490  1.767976 -8.625911 -2.424236 -3.293737\n",
       "3      Pubmed   9.466732 -6.710433  2.091154 -8.770406 -1.767003 -3.243699\n",
       "4      Reddit  11.344668 -6.870468  1.528881 -8.603828 -3.146088 -3.338387\n",
       "5        Wiki   9.829144 -6.853391  1.739694 -9.096389 -2.428304 -3.437767"
      ]
     },
     "execution_count": 4,
     "metadata": {},
     "output_type": "execute_result"
    }
   ],
   "source": [
    "avg_dims = train.groupby('dataset').mean().reset_index()\n",
    "avg_dims"
   ]
  },
  {
   "cell_type": "code",
   "execution_count": 11,
   "metadata": {},
   "outputs": [],
   "source": [
    "datasets = avg_dims['dataset'].tolist()"
   ]
  },
  {
   "cell_type": "code",
   "execution_count": 5,
   "metadata": {},
   "outputs": [],
   "source": [
    "avg_dim_arrs = {}\n",
    "\n",
    "for index, row in avg_dims.iterrows():\n",
    "    dims = np.array([row['1'], row['2'], row['3'], \n",
    "                     row['4'], row['5'], row['6']])\n",
    "    avg_dim_arrs[row['dataset']] = dims"
   ]
  },
  {
   "cell_type": "code",
   "execution_count": 6,
   "metadata": {},
   "outputs": [],
   "source": [
    "def find_closest_dataset(dims_array):\n",
    "    min_dist, closest_dataset = 1000, ''\n",
    "    \n",
    "    for dataset, avg_dim in avg_dim_arrs.items():\n",
    "        euc_dist = np.linalg.norm(dims_array - avg_dim)\n",
    "        if euc_dist < min_dist:\n",
    "            min_dist = euc_dist\n",
    "            closest_dataset = dataset\n",
    "            \n",
    "    return closest_dataset"
   ]
  },
  {
   "cell_type": "code",
   "execution_count": 7,
   "metadata": {},
   "outputs": [],
   "source": [
    "y_label, y_pred = [], []"
   ]
  },
  {
   "cell_type": "code",
   "execution_count": 8,
   "metadata": {},
   "outputs": [],
   "source": [
    "for index, row in test.iterrows():\n",
    "    dims = np.array([row['1'], row['2'], row['3'], \n",
    "                     row['4'], row['5'], row['6']])\n",
    "    \n",
    "    y_label.append(row['dataset'])\n",
    "    y_pred.append(find_closest_dataset(dims))"
   ]
  },
  {
   "cell_type": "code",
   "execution_count": 9,
   "metadata": {},
   "outputs": [
    {
     "name": "stdout",
     "output_type": "stream",
     "text": [
      "1200 1200\n"
     ]
    }
   ],
   "source": [
    "print(len(y_label), len(y_pred))"
   ]
  },
  {
   "cell_type": "code",
   "execution_count": 10,
   "metadata": {},
   "outputs": [
    {
     "name": "stdout",
     "output_type": "stream",
     "text": [
      "0.5266666666666666\n"
     ]
    }
   ],
   "source": [
    "from sklearn.metrics import classification_report, accuracy_score\n",
    "\n",
    "print(accuracy_score(y_label, y_pred))"
   ]
  }
 ],
 "metadata": {
  "kernelspec": {
   "display_name": "Python 3 (ipykernel)",
   "language": "python",
   "name": "python3"
  },
  "language_info": {
   "codemirror_mode": {
    "name": "ipython",
    "version": 3
   },
   "file_extension": ".py",
   "mimetype": "text/x-python",
   "name": "python",
   "nbconvert_exporter": "python",
   "pygments_lexer": "ipython3",
   "version": "3.9.6"
  }
 },
 "nbformat": 4,
 "nbformat_minor": 1
}
