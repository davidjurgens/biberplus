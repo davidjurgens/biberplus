{
 "cells": [
  {
   "cell_type": "code",
   "execution_count": 1,
   "id": "cd7be52e",
   "metadata": {
    "pycharm": {
     "name": "#%%\n"
    }
   },
   "outputs": [],
   "source": [
    "import sys\n",
    "import nltk\n",
    "\n",
    "sys.path.append('..')\n",
    "\n",
    "from biberplus.tagger import load_config, tag_text, calculate_tag_frequencies"
   ]
  },
  {
   "cell_type": "markdown",
   "id": "2893b17a",
   "metadata": {
    "pycharm": {
     "name": "#%% md\n"
    }
   },
   "source": [
    "**Load in sample data**"
   ]
  },
  {
   "cell_type": "code",
   "execution_count": 2,
   "id": "08bf231f",
   "metadata": {
    "pycharm": {
     "name": "#%%\n"
    }
   },
   "outputs": [
    {
     "name": "stderr",
     "output_type": "stream",
     "text": [
      "[nltk_data] Downloading package brown to /home/kalkiek/nltk_data...\n",
      "[nltk_data]   Package brown is already up-to-date!\n"
     ]
    },
    {
     "data": {
      "text/plain": [
       "334889"
      ]
     },
     "execution_count": 2,
     "metadata": {},
     "output_type": "execute_result"
    }
   ],
   "source": [
    "nltk.download('brown')\n",
    "from nltk.corpus import brown\n",
    "\n",
    "adventure_text = \" \".join(brown.words(categories='adventure'))\n",
    "\n",
    "len(adventure_text)"
   ]
  },
  {
   "cell_type": "markdown",
   "id": "c24f6fa8",
   "metadata": {
    "pycharm": {
     "name": "#%% md\n"
    }
   },
   "source": [
    "**Tag text and return the tag frequencies**"
   ]
  },
  {
   "cell_type": "code",
   "execution_count": 3,
   "id": "14eabeab",
   "metadata": {
    "pycharm": {
     "name": "#%%\n"
    }
   },
   "outputs": [
    {
     "data": {
      "text/plain": [
       "{'biber': True,\n",
       " 'function_words': True,\n",
       " 'grieve_clarke': False,\n",
       " 'function_words_list': [],\n",
       " 'token_normalization': 1000,\n",
       " 'use_gpu': False,\n",
       " 'show_progress': False,\n",
       " 'n_processes': 1,\n",
       " 'processing_size': 10000,\n",
       " 'return_text': False,\n",
       " 'drop_last_batch_pct': 0.5}"
      ]
     },
     "execution_count": 3,
     "metadata": {},
     "output_type": "execute_result"
    }
   ],
   "source": [
    "config = load_config()\n",
    "config.update({'use_gpu': False, 'function_words': True})\n",
    "config"
   ]
  },
  {
   "cell_type": "code",
   "execution_count": 4,
   "id": "f7a9fa44",
   "metadata": {
    "pycharm": {
     "name": "#%%\n"
    }
   },
   "outputs": [
    {
     "data": {
      "text/html": [
       "<div>\n",
       "<style scoped>\n",
       "    .dataframe tbody tr th:only-of-type {\n",
       "        vertical-align: middle;\n",
       "    }\n",
       "\n",
       "    .dataframe tbody tr th {\n",
       "        vertical-align: top;\n",
       "    }\n",
       "\n",
       "    .dataframe thead th {\n",
       "        text-align: right;\n",
       "    }\n",
       "</style>\n",
       "<table border=\"1\" class=\"dataframe\">\n",
       "  <thead>\n",
       "    <tr style=\"text-align: right;\">\n",
       "      <th></th>\n",
       "      <th>tag</th>\n",
       "      <th>mean</th>\n",
       "      <th>min_val</th>\n",
       "      <th>max_val</th>\n",
       "      <th>range</th>\n",
       "      <th>std</th>\n",
       "    </tr>\n",
       "  </thead>\n",
       "  <tbody>\n",
       "    <tr>\n",
       "      <th>0</th>\n",
       "      <td>QUAN</td>\n",
       "      <td>6.931507</td>\n",
       "      <td>1.0</td>\n",
       "      <td>16.0</td>\n",
       "      <td>15.0</td>\n",
       "      <td>2.878017</td>\n",
       "    </tr>\n",
       "    <tr>\n",
       "      <th>1</th>\n",
       "      <td>QUPR</td>\n",
       "      <td>1.890411</td>\n",
       "      <td>0.0</td>\n",
       "      <td>6.0</td>\n",
       "      <td>6.0</td>\n",
       "      <td>1.409961</td>\n",
       "    </tr>\n",
       "    <tr>\n",
       "      <th>2</th>\n",
       "      <td>AMP</td>\n",
       "      <td>0.876712</td>\n",
       "      <td>0.0</td>\n",
       "      <td>3.0</td>\n",
       "      <td>3.0</td>\n",
       "      <td>1.006080</td>\n",
       "    </tr>\n",
       "    <tr>\n",
       "      <th>3</th>\n",
       "      <td>PASS</td>\n",
       "      <td>3.726027</td>\n",
       "      <td>0.0</td>\n",
       "      <td>12.0</td>\n",
       "      <td>12.0</td>\n",
       "      <td>2.306989</td>\n",
       "    </tr>\n",
       "    <tr>\n",
       "      <th>4</th>\n",
       "      <td>XX0</td>\n",
       "      <td>7.315068</td>\n",
       "      <td>2.0</td>\n",
       "      <td>16.0</td>\n",
       "      <td>14.0</td>\n",
       "      <td>3.238792</td>\n",
       "    </tr>\n",
       "  </tbody>\n",
       "</table>\n",
       "</div>"
      ],
      "text/plain": [
       "    tag      mean  min_val  max_val  range       std\n",
       "0  QUAN  6.931507      1.0     16.0   15.0  2.878017\n",
       "1  QUPR  1.890411      0.0      6.0    6.0  1.409961\n",
       "2   AMP  0.876712      0.0      3.0    3.0  1.006080\n",
       "3  PASS  3.726027      0.0     12.0   12.0  2.306989\n",
       "4   XX0  7.315068      2.0     16.0   14.0  3.238792"
      ]
     },
     "execution_count": 4,
     "metadata": {},
     "output_type": "execute_result"
    }
   ],
   "source": [
    "frequencies_df = calculate_tag_frequencies(adventure_text, config=config)\n",
    "frequencies_df.head()"
   ]
  },
  {
   "cell_type": "markdown",
   "id": "ffb8b171",
   "metadata": {
    "pycharm": {
     "name": "#%% md\n"
    }
   },
   "source": [
    "**Get the full tagged text back**"
   ]
  },
  {
   "cell_type": "code",
   "execution_count": 5,
   "id": "345422e7",
   "metadata": {
    "pycharm": {
     "name": "#%%\n"
    }
   },
   "outputs": [
    {
     "data": {
      "text/plain": [
       "72329"
      ]
     },
     "execution_count": 5,
     "metadata": {},
     "output_type": "execute_result"
    }
   ],
   "source": [
    "tagged_text = tag_text(adventure_text, config=config)\n",
    "len(tagged_text)"
   ]
  },
  {
   "cell_type": "code",
   "execution_count": 6,
   "id": "27a3c545",
   "metadata": {
    "pycharm": {
     "name": "#%%\n"
    }
   },
   "outputs": [
    {
     "data": {
      "text/plain": [
       "[{'text': 'Dan', 'upos': 'PROPN', 'xpos': 'NNP', 'tags': []},\n",
       " {'text': 'Morgan', 'upos': 'PROPN', 'xpos': 'NNP', 'tags': []},\n",
       " {'text': 'told', 'upos': 'VERB', 'xpos': 'VBD', 'tags': ['VBD']},\n",
       " {'text': 'himself', 'upos': 'PRON', 'xpos': 'PRP', 'tags': ['TPP3']},\n",
       " {'text': 'he', 'upos': 'PRON', 'xpos': 'PRP', 'tags': ['TPP3', 'he']},\n",
       " {'text': 'would', 'upos': 'AUX', 'xpos': 'MD', 'tags': ['PRMD']},\n",
       " {'text': 'forget', 'upos': 'VERB', 'xpos': 'VB', 'tags': ['PRIV']},\n",
       " {'text': 'Ann', 'upos': 'PROPN', 'xpos': 'NNP', 'tags': []},\n",
       " {'text': 'Turner', 'upos': 'PROPN', 'xpos': 'NNP', 'tags': []},\n",
       " {'text': '.', 'upos': 'PUNCT', 'xpos': '.', 'tags': ['PEAS']}]"
      ]
     },
     "execution_count": 6,
     "metadata": {},
     "output_type": "execute_result"
    }
   ],
   "source": [
    "tagged_text[:10]"
   ]
  }
 ],
 "metadata": {
  "kernelspec": {
   "display_name": "cupy",
   "language": "python",
   "name": "cupy"
  },
  "language_info": {
   "codemirror_mode": {
    "name": "ipython",
    "version": 3
   },
   "file_extension": ".py",
   "mimetype": "text/x-python",
   "name": "python",
   "nbconvert_exporter": "python",
   "pygments_lexer": "ipython3",
   "version": "3.9.16"
  }
 },
 "nbformat": 4,
 "nbformat_minor": 5
}