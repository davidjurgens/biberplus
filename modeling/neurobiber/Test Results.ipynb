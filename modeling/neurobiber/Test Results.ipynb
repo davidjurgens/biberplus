{
 "cells": [
  {
   "cell_type": "code",
   "execution_count": 9,
   "metadata": {},
   "outputs": [
    {
     "data": {
      "text/html": [
       "<div>\n",
       "<style scoped>\n",
       "    .dataframe tbody tr th:only-of-type {\n",
       "        vertical-align: middle;\n",
       "    }\n",
       "\n",
       "    .dataframe tbody tr th {\n",
       "        vertical-align: top;\n",
       "    }\n",
       "\n",
       "    .dataframe thead th {\n",
       "        text-align: right;\n",
       "    }\n",
       "</style>\n",
       "<table border=\"1\" class=\"dataframe\">\n",
       "  <thead>\n",
       "    <tr style=\"text-align: right;\">\n",
       "      <th></th>\n",
       "      <th>train</th>\n",
       "      <th>dev</th>\n",
       "      <th>test</th>\n",
       "    </tr>\n",
       "  </thead>\n",
       "  <tbody>\n",
       "    <tr>\n",
       "      <th>BIN_QUAN</th>\n",
       "      <td>22938268</td>\n",
       "      <td>2867473</td>\n",
       "      <td>2867377</td>\n",
       "    </tr>\n",
       "    <tr>\n",
       "      <th>BIN_QUPR</th>\n",
       "      <td>8669526</td>\n",
       "      <td>1084629</td>\n",
       "      <td>1084727</td>\n",
       "    </tr>\n",
       "    <tr>\n",
       "      <th>BIN_AMP</th>\n",
       "      <td>19393951</td>\n",
       "      <td>2423794</td>\n",
       "      <td>2425078</td>\n",
       "    </tr>\n",
       "    <tr>\n",
       "      <th>BIN_PASS</th>\n",
       "      <td>31412182</td>\n",
       "      <td>3926511</td>\n",
       "      <td>3926831</td>\n",
       "    </tr>\n",
       "    <tr>\n",
       "      <th>BIN_XX0</th>\n",
       "      <td>27367095</td>\n",
       "      <td>3420176</td>\n",
       "      <td>3420386</td>\n",
       "    </tr>\n",
       "  </tbody>\n",
       "</table>\n",
       "</div>"
      ],
      "text/plain": [
       "             train      dev     test\n",
       "BIN_QUAN  22938268  2867473  2867377\n",
       "BIN_QUPR   8669526  1084629  1084727\n",
       "BIN_AMP   19393951  2423794  2425078\n",
       "BIN_PASS  31412182  3926511  3926831\n",
       "BIN_XX0   27367095  3420176  3420386"
      ]
     },
     "execution_count": 9,
     "metadata": {},
     "output_type": "execute_result"
    }
   ],
   "source": [
    "import os\n",
    "\n",
    "os.environ[\"CUDA_VISIBLE_DEVICES\"] = \"2\"\n",
    "\n",
    "import sys\n",
    "import numpy as np\n",
    "import pandas as pd\n",
    "import json\n",
    "import seaborn as sns\n",
    "import matplotlib.pyplot as plt\n",
    "\n",
    "from tqdm import tqdm\n",
    "from sklearn.metrics import precision_recall_curve, f1_score, precision_score, recall_score\n",
    "\n",
    "sys.path.append('/home/kalkiek/projects/biber-multidimensional-register-analysis/')\n",
    "\n",
    "from modeling.neurobiber.tagger import load_model_and_tokenizer, predict_batch\n",
    "\n",
    "TEST_FP = '/shared/3/projects/hiatus/tagged_data/biber-aggregate/binary_test.jsonl'\n",
    "RESULTS_DIR = '/shared/3/projects/hiatus/tagged_data/biber-aggregate/evaluation/'\n",
    "\n",
    "tag_counts = pd.read_csv('/shared/3/projects/hiatus/tagged_data/biber-aggregate/tag_counts.csv')\n",
    "tag_names = [\n",
    "    \"BIN_QUAN\", \"BIN_QUPR\", \"BIN_AMP\", \"BIN_PASS\", \"BIN_XX0\", \"BIN_JJ\", \n",
    "    \"BIN_BEMA\", \"BIN_CAUS\", \"BIN_CONC\", \"BIN_COND\", \"BIN_CONJ\", \"BIN_CONT\", \n",
    "    \"BIN_DPAR\", \"BIN_DWNT\", \"BIN_EX\", \"BIN_FPP1\", \"BIN_GER\", \"BIN_RB\", \n",
    "    \"BIN_PIN\", \"BIN_INPR\", \"BIN_TO\", \"BIN_NEMD\", \"BIN_OSUB\", \"BIN_PASTP\", \n",
    "    \"BIN_VBD\", \"BIN_PHC\", \"BIN_PIRE\", \"BIN_PLACE\", \"BIN_POMD\", \"BIN_PRMD\", \n",
    "    \"BIN_WZPRES\", \"BIN_VPRT\", \"BIN_PRIV\", \"BIN_PIT\", \"BIN_PUBV\", \"BIN_SPP2\", \n",
    "    \"BIN_SMP\", \"BIN_SERE\", \"BIN_STPR\", \"BIN_SUAV\", \"BIN_SYNE\", \"BIN_TPP3\", \n",
    "    \"BIN_TIME\", \"BIN_NOMZ\", \"BIN_BYPA\", \"BIN_PRED\", \"BIN_TOBJ\", \"BIN_TSUB\", \n",
    "    \"BIN_THVC\", \"BIN_NN\", \"BIN_DEMP\", \"BIN_DEMO\", \"BIN_WHQU\", \"BIN_EMPH\", \n",
    "    \"BIN_HDG\", \"BIN_WZPAST\", \"BIN_THAC\", \"BIN_PEAS\", \"BIN_ANDC\", \"BIN_PRESP\", \n",
    "    \"BIN_PROD\", \"BIN_SPAU\", \"BIN_SPIN\", \"BIN_THATD\", \"BIN_WHOBJ\", \"BIN_WHSUB\", \n",
    "    \"BIN_WHCL\", \"BIN_ART\", \"BIN_AUXB\", \"BIN_CAP\", \"BIN_SCONJ\", \"BIN_CCONJ\", \n",
    "    \"BIN_DET\", \"BIN_EMOJ\", \"BIN_EMOT\", \"BIN_EXCL\", \"BIN_HASH\", \"BIN_INF\", \n",
    "    \"BIN_UH\", \"BIN_NUM\", \"BIN_LAUGH\", \"BIN_PRP\", \"BIN_PREP\", \"BIN_NNP\", \n",
    "    \"BIN_QUES\", \"BIN_QUOT\", \"BIN_AT\", \"BIN_SBJP\", \"BIN_URL\", \"BIN_WH\", \n",
    "    \"BIN_INDA\", \"BIN_ACCU\", \"BIN_PGAS\", \"BIN_CMADJ\", \"BIN_SPADJ\", \"BIN_X\"\n",
    "]\n",
    "\n",
    "tag_counts.columns = ['train', 'dev', 'test']\n",
    "tag_counts.index = tag_names\n",
    "\n",
    "# Display the updated DataFrame\n",
    "tag_counts.head()"
   ]
  },
  {
   "cell_type": "code",
   "execution_count": 10,
   "metadata": {},
   "outputs": [
    {
     "name": "stdout",
     "output_type": "stream",
     "text": [
      "10 rarest tags in training set:\n",
      "             train\n",
      "BIN_X        87358\n",
      "BIN_ACCU    371909\n",
      "BIN_QUOT    737904\n",
      "BIN_SPADJ   786012\n",
      "BIN_INDA    865263\n",
      "BIN_URL    1908162\n",
      "BIN_SBJP   2248697\n",
      "BIN_CMADJ  2319931\n",
      "BIN_CCONJ  2736093\n",
      "BIN_PGAS   2747924\n"
     ]
    }
   ],
   "source": [
    "rare_tags = tag_counts.sort_values('train').head(10)\n",
    "print(\"10 rarest tags in training set:\")\n",
    "print(rare_tags[['train']].to_string())"
   ]
  },
  {
   "cell_type": "markdown",
   "metadata": {},
   "source": [
    "**Load in the test data**"
   ]
  },
  {
   "cell_type": "code",
   "execution_count": 11,
   "metadata": {},
   "outputs": [],
   "source": [
    "def tag_test_json(input_file, batch_size=128, text_key=\"text\", show_progress=True):\n",
    "    model, tokenizer = load_model_and_tokenizer()\n",
    "    all_predictions = []\n",
    "    all_labels = []\n",
    "    \n",
    "    with open(input_file, 'r', encoding='utf-8') as fin:\n",
    "        batch = []\n",
    "        label_batch = []\n",
    "        \n",
    "        iterator = tqdm(fin, desc=\"Processing texts\") if show_progress else fin\n",
    "        \n",
    "        for line in iterator:\n",
    "            line = line.strip()\n",
    "            if not line:\n",
    "                continue\n",
    "                \n",
    "            try:\n",
    "                data = json.loads(line)\n",
    "                feature_keys = list(data[\"features\"].keys())\n",
    "                label_keys = [k for k in feature_keys if k.endswith(\"_mean\")]\n",
    "                labels = [1.0 if float(data[\"features\"][key]) != 0.0 else 0.0 for key in label_keys]\n",
    "                \n",
    "                batch.append(data[text_key])\n",
    "                label_batch.append(labels)\n",
    "                \n",
    "                if len(batch) >= batch_size:\n",
    "                    predictions = predict_batch(model, tokenizer, batch)\n",
    "                    all_predictions.extend(predictions)\n",
    "                    all_labels.extend(label_batch)\n",
    "                    batch = []\n",
    "                    label_batch = []\n",
    "                    \n",
    "            except json.JSONDecodeError as e:\n",
    "                print(f\"Skipping invalid JSON line: {e}\")\n",
    "                continue\n",
    "        \n",
    "        # Handle remaining batch\n",
    "        if batch:\n",
    "            predictions = predict_batch(model, tokenizer, batch)\n",
    "            all_predictions.extend(predictions)\n",
    "            all_labels.extend(label_batch)\n",
    "    \n",
    "    return np.array(all_predictions), np.array(all_labels)"
   ]
  },
  {
   "cell_type": "code",
   "execution_count": 12,
   "metadata": {},
   "outputs": [
    {
     "name": "stderr",
     "output_type": "stream",
     "text": [
      "2025-02-17 13:09:42.069683: I tensorflow/core/platform/cpu_feature_guard.cc:181] Beginning TensorFlow 2.15, this package will be updated to install stock TensorFlow 2.15 alongside Intel's TensorFlow CPU extension plugin, which provides all the optimizations available in the package and more. If a compatible version of stock TensorFlow is present, only the extension will get installed. No changes to code or installation setup is needed as a result of this change.\n",
      "More information on Intel's optimizations for TensorFlow, delivered as TensorFlow extension plugin can be viewed at https://github.com/intel/intel-extension-for-tensorflow.\n",
      "2025-02-17 13:09:42.069715: I tensorflow/core/platform/cpu_feature_guard.cc:192] This TensorFlow binary is optimized to use available CPU instructions in performance-critical operations.\n",
      "To enable the following instructions: AVX512_VNNI, in other operations, rebuild TensorFlow with the appropriate compiler flags.\n",
      "Processing texts: 3960277it [3:48:58, 288.25it/s]\n"
     ]
    }
   ],
   "source": [
    "predictions, labels = tag_test_json(TEST_FP)"
   ]
  },
  {
   "cell_type": "code",
   "execution_count": 13,
   "metadata": {},
   "outputs": [
    {
     "name": "stdout",
     "output_type": "stream",
     "text": [
      "Total samples: 3960277\n",
      "Number of features: 96\n",
      "Total prediction samples: 3960277\n",
      "Number of prediction features: 96\n"
     ]
    }
   ],
   "source": [
    "print(f\"Total samples: {labels.shape[0]}\")\n",
    "print(f\"Number of features: {labels.shape[1]}\")\n",
    "\n",
    "print(f\"Total prediction samples: {predictions.shape[0]}\")\n",
    "print(f\"Number of prediction features: {predictions.shape[1]}\")"
   ]
  },
  {
   "cell_type": "code",
   "execution_count": 14,
   "metadata": {},
   "outputs": [],
   "source": [
    "def save_results(predictions, labels, output_dir=\"results\"):\n",
    "    # Create results directory if it doesn't exist\n",
    "    os.makedirs(output_dir, exist_ok=True)\n",
    "    \n",
    "    # Save predictions and labels as compressed numpy arrays\n",
    "    pred_path = os.path.join(output_dir, \"predictions.npz\")\n",
    "    label_path = os.path.join(output_dir, \"labels.npz\")\n",
    "    \n",
    "    np.savez_compressed(pred_path, predictions=predictions)\n",
    "    np.savez_compressed(label_path, labels=labels)\n",
    "    \n",
    "    print(f\"Results saved to {output_dir}/\")\n",
    "    print(f\"Predictions shape: {predictions.shape}\")\n",
    "    print(f\"Labels shape: {labels.shape}\")"
   ]
  },
  {
   "cell_type": "code",
   "execution_count": 15,
   "metadata": {},
   "outputs": [
    {
     "name": "stdout",
     "output_type": "stream",
     "text": [
      "Results saved to /shared/3/projects/hiatus/tagged_data/biber-aggregate/evaluation//\n",
      "Predictions shape: (3960277, 96)\n",
      "Labels shape: (3960277, 96)\n"
     ]
    }
   ],
   "source": [
    "save_results(predictions, labels, RESULTS_DIR)"
   ]
  },
  {
   "cell_type": "code",
   "execution_count": 16,
   "metadata": {},
   "outputs": [
    {
     "name": "stdout",
     "output_type": "stream",
     "text": [
      "\n",
      "Overall Metrics:\n",
      "Accuracy: 0.985\n",
      "Micro F1: 0.985\n",
      "Macro F1: 0.971\n"
     ]
    }
   ],
   "source": [
    "accuracy = np.mean(predictions == labels)\n",
    "micro_f1 = f1_score(labels, predictions, average='micro')\n",
    "macro_f1 = f1_score(labels, predictions, average='macro')\n",
    "\n",
    "print(f\"\\nOverall Metrics:\")\n",
    "print(f\"Accuracy: {accuracy:.3f}\")\n",
    "print(f\"Micro F1: {micro_f1:.3f}\")\n",
    "print(f\"Macro F1: {macro_f1:.3f}\")"
   ]
  },
  {
   "cell_type": "code",
   "execution_count": 17,
   "metadata": {},
   "outputs": [
    {
     "name": "stdout",
     "output_type": "stream",
     "text": [
      "\n",
      "Top 5 performing tags:\n",
      "     Tag       F1   Support\n",
      "  BIN_NN 0.999932 3959706.0\n",
      " BIN_CAP 0.999885 3947805.0\n",
      "BIN_PREP 0.999781 3949092.0\n",
      " BIN_PIN 0.999781 3949092.0\n",
      " BIN_ART 0.999576 3927303.0\n",
      "\n",
      "Bottom 5 performing tags:\n",
      "      Tag       F1   Support\n",
      " BIN_EMOT 0.924797   92134.0\n",
      "BIN_PRESP 0.921507 1075079.0\n",
      " BIN_THAC 0.920486  341645.0\n",
      "BIN_WHOBJ 0.918361 1086660.0\n",
      "   BIN_AT 0.916206   98066.0\n",
      "   BIN_UH 0.912957 1042887.0\n",
      "  BIN_GER 0.909906  745031.0\n",
      "BIN_PASTP 0.878411  530723.0\n",
      " BIN_EMOJ 0.841737   10753.0\n",
      " BIN_DPAR 0.832298  281544.0\n"
     ]
    }
   ],
   "source": [
    "# Calculate per-tag metrics\n",
    "per_tag_f1 = f1_score(labels, predictions, average=None)\n",
    "\n",
    "# Create DataFrame with metrics\n",
    "per_tag_metrics = pd.DataFrame({\n",
    "    'Tag': tag_names,\n",
    "    'F1': per_tag_f1,\n",
    "    'Support': np.sum(labels, axis=0)  # Count occurrences of each tag\n",
    "}).sort_values('F1', ascending=False)\n",
    "\n",
    "print(\"\\nTop 5 performing tags:\")\n",
    "print(per_tag_metrics.head().to_string(index=False))\n",
    "print(\"\\nBottom 5 performing tags:\")\n",
    "print(per_tag_metrics.tail(10).to_string(index=False))"
   ]
  },
  {
   "cell_type": "code",
   "execution_count": 18,
   "metadata": {},
   "outputs": [
    {
     "name": "stdout",
     "output_type": "stream",
     "text": [
      "\n",
      "Overall Tag Performance:\n",
      "Mean F1: 0.971\n",
      "Median F1: 0.980\n"
     ]
    }
   ],
   "source": [
    "# Calculate mean and median F1 scores\n",
    "mean_f1 = per_tag_metrics['F1'].mean()\n",
    "median_f1 = per_tag_metrics['F1'].median()\n",
    "\n",
    "print(\"\\nOverall Tag Performance:\")\n",
    "print(f\"Mean F1: {mean_f1:.3f}\")\n",
    "print(f\"Median F1: {median_f1:.3f}\")"
   ]
  },
  {
   "cell_type": "code",
   "execution_count": 19,
   "metadata": {},
   "outputs": [
    {
     "name": "stdout",
     "output_type": "stream",
     "text": [
      "\n",
      "All tags performance metrics:\n",
      "       Tag       F1   Support\n",
      "    BIN_NN 0.999932 3959706.0\n",
      "   BIN_CAP 0.999885 3947805.0\n",
      "  BIN_PREP 0.999781 3949092.0\n",
      "   BIN_PIN 0.999781 3949092.0\n",
      "   BIN_ART 0.999576 3927303.0\n",
      "   BIN_DET 0.999457 3948204.0\n",
      "  BIN_AUXB 0.999169 3819762.0\n",
      "  BIN_CONJ 0.998942 3495470.0\n",
      "  BIN_INDA 0.998848 3642094.0\n",
      "   BIN_PRP 0.998823 3874095.0\n",
      "  BIN_SBJP 0.998823 3874095.0\n",
      " BIN_CCONJ 0.998665 3813029.0\n",
      "    BIN_JJ 0.997772 3926831.0\n",
      "  BIN_PRIV 0.997652 3289775.0\n",
      "  BIN_VPRT 0.997092 3874272.0\n",
      "  BIN_TPP3 0.996948 2628001.0\n",
      "    BIN_RB 0.996328 3829366.0\n",
      "   BIN_PIT 0.996207 3075323.0\n",
      "  BIN_CONT 0.995388 2550978.0\n",
      "   BIN_INF 0.995191 3764495.0\n",
      "    BIN_TO 0.995151 3295186.0\n",
      "  BIN_PUBV 0.995094 2473490.0\n",
      "    BIN_WH 0.994814 3246688.0\n",
      "  BIN_QUAN 0.994628 2867377.0\n",
      " BIN_SCONJ 0.994600 3419624.0\n",
      "  BIN_NOMZ 0.994553 2972320.0\n",
      "  BIN_BEMA 0.994250 3420386.0\n",
      "  BIN_PGAS 0.993453 3385617.0\n",
      "  BIN_FPP1 0.993247 3175405.0\n",
      "  BIN_PEAS 0.992497 3402485.0\n",
      "   BIN_XX0 0.989690 2661517.0\n",
      "  BIN_DEMO 0.989627 2725948.0\n",
      "  BIN_TIME 0.988271 1949518.0\n",
      "  BIN_POMD 0.988083 2203172.0\n",
      "  BIN_PRMD 0.988067 2241598.0\n",
      "  BIN_ACCU 0.987365 2109262.0\n",
      "  BIN_EMPH 0.987295 2625436.0\n",
      "  BIN_SPP2 0.987161 1923452.0\n",
      "   BIN_NUM 0.986893 2947464.0\n",
      "  BIN_QUOT 0.986830 1494933.0\n",
      "  BIN_PASS 0.985830 2425078.0\n",
      "  BIN_SUAV 0.984927 1884471.0\n",
      "   BIN_VBD 0.984674 3150080.0\n",
      "   BIN_NNP 0.981935 3564939.0\n",
      "     BIN_X 0.981451 2606971.0\n",
      "  BIN_COND 0.980809 1652937.0\n",
      "  BIN_QUES 0.980467 1244666.0\n",
      "  BIN_INPR 0.980154 1528578.0\n",
      "  BIN_ANDC 0.979560 2236631.0\n",
      "  BIN_QUPR 0.978351 1369810.0\n",
      "  BIN_PROD 0.978169 2201470.0\n",
      "  BIN_DEMP 0.978113 2119967.0\n",
      " BIN_THATD 0.976919 1797148.0\n",
      " BIN_LAUGH 0.975431   46675.0\n",
      " BIN_CMADJ 0.975201 2014230.0\n",
      "  BIN_OSUB 0.974667 1187946.0\n",
      "  BIN_DWNT 0.974632 1281201.0\n",
      "  BIN_THVC 0.974438 1321511.0\n",
      "  BIN_EXCL 0.974397  604072.0\n",
      " BIN_SPADJ 0.972145 1488261.0\n",
      "  BIN_PRED 0.971629 2083155.0\n",
      "  BIN_SPAU 0.971569 1876094.0\n",
      " BIN_PLACE 0.971314 1605969.0\n",
      "   BIN_AMP 0.970416 1084727.0\n",
      "  BIN_CAUS 0.970184  858528.0\n",
      "  BIN_NEMD 0.968835  860461.0\n",
      "   BIN_SMP 0.966832  662475.0\n",
      "  BIN_STPR 0.966150 1446129.0\n",
      "    BIN_EX 0.964925 1229114.0\n",
      "   BIN_PHC 0.962997 2089949.0\n",
      "  BIN_SERE 0.962816  860180.0\n",
      " BIN_WHSUB 0.962776 1681171.0\n",
      "  BIN_CONC 0.959415  572012.0\n",
      "  BIN_TSUB 0.958830 1202410.0\n",
      "  BIN_BYPA 0.956050  729147.0\n",
      "  BIN_WHCL 0.955875  701045.0\n",
      "  BIN_WHQU 0.954798 1057636.0\n",
      "  BIN_SYNE 0.953003  905766.0\n",
      "   BIN_URL 0.949625  289743.0\n",
      "  BIN_PIRE 0.948632  343969.0\n",
      "  BIN_TOBJ 0.945140  812501.0\n",
      "  BIN_HASH 0.942509  108555.0\n",
      "   BIN_HDG 0.942238  441591.0\n",
      "BIN_WZPRES 0.940600 1538704.0\n",
      "  BIN_SPIN 0.930389  238376.0\n",
      "BIN_WZPAST 0.927371 1026901.0\n",
      "  BIN_EMOT 0.924797   92134.0\n",
      " BIN_PRESP 0.921507 1075079.0\n",
      "  BIN_THAC 0.920486  341645.0\n",
      " BIN_WHOBJ 0.918361 1086660.0\n",
      "    BIN_AT 0.916206   98066.0\n",
      "    BIN_UH 0.912957 1042887.0\n",
      "   BIN_GER 0.909906  745031.0\n",
      " BIN_PASTP 0.878411  530723.0\n",
      "  BIN_EMOJ 0.841737   10753.0\n",
      "  BIN_DPAR 0.832298  281544.0\n"
     ]
    }
   ],
   "source": [
    "# Print full table of results\n",
    "print(\"\\nAll tags performance metrics:\")\n",
    "print(per_tag_metrics.to_string(index=False))"
   ]
  }
 ],
 "metadata": {
  "kernelspec": {
   "display_name": "Python 3 (ipykernel)",
   "language": "python",
   "name": "python3"
  }
 },
 "nbformat": 4,
 "nbformat_minor": 2
}
