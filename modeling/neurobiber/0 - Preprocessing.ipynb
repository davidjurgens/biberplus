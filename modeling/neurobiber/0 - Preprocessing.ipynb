{
 "cells": [
  {
   "cell_type": "markdown",
   "metadata": {},
   "source": [
    "# Preprocessing\n",
    "\n",
    "- Rename biber field to biber_tagged\n",
    "- Confirm it's present for every single row\n",
    "- Compare against the original file and confirm everything is the same with the addition of new field(s)\n",
    "- Add the new fields into the original file\n",
    "\n",
    "Manually delete tagged_data folders once after sanity checking"
   ]
  },
  {
   "cell_type": "markdown",
   "metadata": {},
   "source": [
    "## Setup"
   ]
  },
  {
   "cell_type": "code",
   "execution_count": 7,
   "metadata": {},
   "outputs": [],
   "source": [
    "import json\n",
    "import os\n",
    "from tqdm import tqdm\n",
    "import multiprocessing as mp\n",
    "from itertools import islice\n",
    "\n",
    "tagged_dataset_paths = {\n",
    "    'amazon': '/shared/3/projects/hiatus/tagged_data/amazon/amazon.jsonl',\n",
    "    'reddit': '/shared/3/projects/hiatus/tagged_data/reddit/reddit.jsonl',\n",
    "    'book3corpus': '/shared/3/projects/hiatus/tagged_data/book3corpus/book3corpus.jsonl',\n",
    "    'wiki': '/shared/3/projects/hiatus/tagged_data/wiki/wiki.jsonl',\n",
    "    'wiki_discussions': '/shared/3/projects/hiatus/tagged_data/wiki_discussions/wiki_discussions.jsonl',\n",
    "    'realnews': '/shared/3/projects/hiatus/tagged_data/realnews/realnews.jsonl',\n",
    "    'gmane': '/shared/3/projects/hiatus/tagged_data/gmane/realnews.jsonl'\n",
    "}\n",
    "\n",
    "tagged_dataset_paths = {\n",
    "    'wiki': '/shared/3/projects/hiatus/tagged_data/wiki/wiki.jsonl',\n",
    "    'wiki_discussions': '/shared/3/projects/hiatus/tagged_data/wiki_discussions/wiki_discussions.jsonl',\n",
    "}\n",
    "\n",
    "def process_chunk(chunk):\n",
    "    processed = []\n",
    "    skipped = 0\n",
    "    for orig_line, lisa_line in chunk:\n",
    "        try:\n",
    "            orig_data = json.loads(orig_line)\n",
    "            lisa_data = json.loads(lisa_line)\n",
    "        \n",
    "            if not all(key in lisa_data for key in orig_data.keys()):\n",
    "                raise KeyError(f\"Missing original fields\")\n",
    "            \n",
    "            if 'encodings' not in lisa_data:\n",
    "                raise KeyError(\"'encodings' field is missing\")\n",
    "            \n",
    "            lisa_data['biber_tagged'] = lisa_data.pop('encodings')\n",
    "            \n",
    "            processed.append(json.dumps(lisa_data))\n",
    "        except (KeyError, json.JSONDecodeError):\n",
    "            skipped += 1\n",
    "        except Exception as e:\n",
    "            print(f\"Unexpected error processing line: {str(e)}\")\n",
    "            skipped += 1\n",
    "    \n",
    "    return processed, skipped\n",
    "\n",
    "def process_dataset(dataset_name, dataset_path):\n",
    "    lisa_path = os.path.join(os.path.dirname(dataset_path), 'lisa.jsonl')\n",
    "    corpus_path = os.path.join(os.path.dirname(dataset_path), 'corpus.jsonl')\n",
    "    \n",
    "    chunk_size = 10000  \n",
    "    \n",
    "    with open(dataset_path, 'r') as orig_file, \\\n",
    "         open(lisa_path, 'r') as lisa_file, \\\n",
    "         open(corpus_path, 'w') as corpus_file:\n",
    "        \n",
    "        total_lines = sum(1 for _ in orig_file)\n",
    "        orig_file.seek(0)  # Reset file pointer\n",
    "        \n",
    "        with mp.Pool(processes=10) as pool:\n",
    "            chunks = iter(lambda: list(islice(zip(orig_file, lisa_file), chunk_size)), [])\n",
    "            results = []\n",
    "            \n",
    "            for result in tqdm(pool.imap(process_chunk, chunks), total=total_lines//chunk_size, desc=f\"Processing {dataset_name}\"):\n",
    "                results.append(result)\n",
    "                processed_lines = sum(len(r[0]) for r in results)\n",
    "                skipped_lines = sum(r[1] for r in results)\n",
    "            \n",
    "            for result in results:\n",
    "                corpus_file.write('\\n'.join(result[0]))\n",
    "                corpus_file.write('\\n')\n",
    "    \n",
    "    # Remove lisa.jsonl\n",
    "    try:\n",
    "        os.remove(lisa_path)\n",
    "    except OSError as e:\n",
    "        print(f\"Error removing {lisa_path}: {str(e)}\")\n",
    "    \n",
    "    print(f\"Processed {dataset_name}\")\n",
    "    print(f\"Lines processed: {processed_lines}\")\n",
    "    print(f\"Lines skipped: {skipped_lines}\")\n"
   ]
  },
  {
   "cell_type": "code",
   "execution_count": 8,
   "metadata": {},
   "outputs": [
    {
     "name": "stderr",
     "output_type": "stream",
     "text": [
      "Processing wiki: 314it [16:20,  3.12s/it]                         \n"
     ]
    },
    {
     "name": "stdout",
     "output_type": "stream",
     "text": [
      "Processed wiki\n",
      "Lines processed: 3134059\n",
      "Lines skipped: 9\n"
     ]
    },
    {
     "name": "stderr",
     "output_type": "stream",
     "text": [
      "Processing wiki_discussions: 410it [19:54,  2.91s/it]                         \n"
     ]
    },
    {
     "name": "stdout",
     "output_type": "stream",
     "text": [
      "Processed wiki_discussions\n",
      "Lines processed: 4093891\n",
      "Lines skipped: 4\n",
      "All datasets processed successfully.\n"
     ]
    }
   ],
   "source": [
    "for dataset_name, dataset_path in tagged_dataset_paths.items():\n",
    "    process_dataset(dataset_name, dataset_path)\n",
    "\n",
    "print(\"All datasets processed successfully.\")"
   ]
  }
 ],
 "metadata": {
  "kernelspec": {
   "display_name": "Python 3 (ipykernel)",
   "language": "python",
   "name": "python3"
  },
  "language_info": {
   "codemirror_mode": {
    "name": "ipython",
    "version": 3
   },
   "file_extension": ".py",
   "mimetype": "text/x-python",
   "name": "python",
   "nbconvert_exporter": "python",
   "pygments_lexer": "ipython3",
   "version": "3.9.12"
  }
 },
 "nbformat": 4,
 "nbformat_minor": 2
}
