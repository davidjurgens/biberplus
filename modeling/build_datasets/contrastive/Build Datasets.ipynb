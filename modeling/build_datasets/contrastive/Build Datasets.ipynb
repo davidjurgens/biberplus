{
 "cells": [
  {
   "cell_type": "code",
   "execution_count": null,
   "outputs": [],
   "source": [
    "import os\n",
    "\n",
    "from align import align\n",
    "from partition import partition\n",
    "from merge import merge_datasets\n",
    "from convert_to_datasets import create_dataset"
   ],
   "metadata": {
    "collapsed": false,
    "pycharm": {
     "name": "#%%\n"
    }
   }
  },
  {
   "cell_type": "markdown",
   "source": [
    "## Partition\n",
    "\n",
    "Generate the queries and candidates from the source data .jsonl file"
   ],
   "metadata": {
    "collapsed": false,
    "pycharm": {
     "name": "#%% md\n"
    }
   }
  },
  {
   "cell_type": "code",
   "execution_count": null,
   "outputs": [],
   "source": [
    "input_file = '/shared/3/projects/hiatus/tagged_data/amazon/amazon.jsonl'\n",
    "output_path = '/shared/3/projects/hiatus/tagged_data/amazon/'\n",
    "nrows = 1000000  # None to use the whole file\n",
    "\n",
    "partition(input_file, output_path, nrows)"
   ],
   "metadata": {
    "collapsed": false,
    "pycharm": {
     "name": "#%%\n"
    }
   }
  },
  {
   "cell_type": "markdown",
   "source": [
    "The output is a candidates and queries file for each split. E.g.`train_candidates.jsonl` and `train_queries.jsonl`"
   ],
   "metadata": {
    "collapsed": false,
    "pycharm": {
     "name": "#%% md\n"
    }
   }
  },
  {
   "cell_type": "markdown",
   "source": [
    "## Align\n",
    "\n",
    "Align the authors in the candidate and query files and assert that are no overlapping documents in the files"
   ],
   "metadata": {
    "collapsed": false,
    "pycharm": {
     "name": "#%% md\n"
    }
   }
  },
  {
   "cell_type": "code",
   "execution_count": null,
   "outputs": [],
   "source": [
    "output_path = '/shared/3/projects/hiatus/tagged_data/amazon/'\n",
    "\n",
    "print(\"Aligning dev\")\n",
    "align(os.path.join(output_path, 'dev_candidates.jsonl'), os.path.join(output_path, 'dev_queries.jsonl'))\n",
    "\n",
    "print(\"Aligning test\")\n",
    "align(os.path.join(output_path, 'test_candidates.jsonl'), os.path.join(output_path, 'test_queries.jsonl'))\n",
    "\n",
    "print(\"Aligning train\")\n",
    "align(os.path.join(output_path, 'train_candidates.jsonl'), os.path.join(output_path, 'train_queries.jsonl'))"
   ],
   "metadata": {
    "collapsed": false,
    "pycharm": {
     "name": "#%%\n"
    }
   }
  },
  {
   "cell_type": "markdown",
   "source": [
    "## Merge\n",
    "\n",
    "Merge the candidates and queries into a single file for each split. E.g. `train.jsonl`"
   ],
   "metadata": {
    "collapsed": false,
    "pycharm": {
     "name": "#%% md\n"
    }
   }
  },
  {
   "cell_type": "code",
   "execution_count": null,
   "outputs": [],
   "source": [
    "input_paths = ['/shared/3/projects/hiatus/tagged_data/amazon/']\n",
    "output_path = '/shared/3/projects/hiatus/tagged_data/amazon/'\n",
    "               \n",
    "print(\"Merging train data\")\n",
    "train_input_paths = [(os.path.join(p, 'train_queries.jsonl'), os.path.join(p, 'train_candidates.jsonl')) for p in input_paths]\n",
    "merge_datasets(train_input_paths, os.path.join(output_path, 'train.jsonl'))\n",
    "\n",
    "print(\"Merging dev data\")\n",
    "dev_input_paths = [(os.path.join(p, 'dev_queries.jsonl'), os.path.join(p, 'dev_candidates.jsonl')) for p in input_paths]\n",
    "merge_datasets(dev_input_paths, os.path.join(output_path, 'dev.jsonl'))\n",
    "\n",
    "print(\"Merging test data\")\n",
    "test_input_paths = [(os.path.join(p, 'test_queries.jsonl'), os.path.join(p, 'test_candidates.jsonl')) for p in input_paths]\n",
    "merge_datasets(test_input_paths, os.path.join(output_path, 'test.jsonl'))    "
   ],
   "metadata": {
    "collapsed": false,
    "pycharm": {
     "name": "#%%\n"
    }
   }
  },
  {
   "cell_type": "markdown",
   "source": [
    "## Convert To Datasets"
   ],
   "metadata": {
    "collapsed": false,
    "pycharm": {
     "name": "#%% md\n"
    }
   }
  },
  {
   "cell_type": "code",
   "execution_count": null,
   "outputs": [],
   "source": [
    "folder = '/shared/3/projects/hiatus/tagged_data/amazon/'\n",
    "\n",
    "print('Creating training dataset...')\n",
    "train_inpath = os.path.join(folder, 'train.jsonl')\n",
    "train_outpath = os.path.join(folder, 'train')\n",
    "create_dataset(train_inpath, train_outpath)\n",
    "\n",
    "print('Creating dev dataset...')\n",
    "dev_inpath = os.path.join(folder, 'dev.jsonl')\n",
    "dev_outpath = os.path.join(folder, 'dev')\n",
    "create_dataset(dev_inpath, dev_outpath)\n",
    "\n",
    "print('Creating test dataset...')\n",
    "test_inpath = os.path.join(folder, 'test.jsonl')\n",
    "test_outpath = os.path.join(folder, 'test')\n",
    "create_dataset(test_inpath, test_outpath)"
   ],
   "metadata": {
    "collapsed": false,
    "pycharm": {
     "name": "#%%\n"
    }
   }
  },
  {
   "cell_type": "markdown",
   "metadata": {
    "pycharm": {
     "name": "#%% md\n"
    }
   },
   "source": [
    "## Partition\n",
    "\n",
    "Generate the queries and candidates from the source data .jsonl file"
   ]
  },
  {
   "cell_type": "code",
   "execution_count": 3,
   "metadata": {
    "pycharm": {
     "name": "#%%\n"
    }
   },
   "outputs": [
    {
     "name": "stdout",
     "output_type": "stream",
     "text": [
      "Loading meta data...\n",
      "Sampling text pairs...\n",
      "5699 dev samples\n",
      "11065 test samples\n",
      "94990 training samples\n",
      "saving text pair samples\n"
     ]
    },
    {
     "name": "stderr",
     "output_type": "stream",
     "text": [
      "1771985it [02:54, 10169.20it/s]\n",
      "1771985it [02:20, 12629.09it/s]\n",
      "1771985it [02:22, 12443.13it/s]\n"
     ]
    }
   ],
   "source": [
    "input_file = '/shared/3/projects/hiatus/tagged_data/amazon/amazon.jsonl'\n",
    "output_path = '/shared/3/projects/hiatus/tagged_data/amazon/'\n",
    "nrows = 1000000  # None to use the whole file\n",
    "\n",
    "partition(input_file, output_path, nrows)"
   ]
  },
  {
   "cell_type": "markdown",
   "metadata": {
    "pycharm": {
     "name": "#%% md\n"
    }
   },
   "source": [
    "The output is a candidates and queries file for each split. E.g.`train_candidates.jsonl` and `train_queries.jsonl`"
   ]
  },
  {
   "cell_type": "markdown",
   "metadata": {
    "pycharm": {
     "name": "#%% md\n"
    }
   },
   "source": [
    "## Align\n",
    "\n",
    "Align the authors in the candidate and query files and assert that are no overlapping documents in the files"
   ]
  },
  {
   "cell_type": "code",
   "execution_count": 4,
   "metadata": {
    "pycharm": {
     "name": "#%%\n"
    }
   },
   "outputs": [
    {
     "name": "stdout",
     "output_type": "stream",
     "text": [
      "Aligning dev\n",
      "Aligning test\n",
      "Aligning train\n"
     ]
    }
   ],
   "source": [
    "output_path = '/shared/3/projects/hiatus/tagged_data/amazon/'\n",
    "\n",
    "print(\"Aligning dev\")\n",
    "align(os.path.join(output_path, 'dev_candidates.jsonl'), os.path.join(output_path, 'dev_queries.jsonl'))\n",
    "\n",
    "print(\"Aligning test\")\n",
    "align(os.path.join(output_path, 'test_candidates.jsonl'), os.path.join(output_path, 'test_queries.jsonl'))\n",
    "\n",
    "print(\"Aligning train\")\n",
    "align(os.path.join(output_path, 'train_candidates.jsonl'), os.path.join(output_path, 'train_queries.jsonl'))"
   ]
  },
  {
   "cell_type": "markdown",
   "metadata": {
    "pycharm": {
     "name": "#%% md\n"
    }
   },
   "source": [
    "## Merge\n",
    "\n",
    "Merge the candidates and queries into a single file for each split. E.g. `train.jsonl`"
   ]
  },
  {
   "cell_type": "code",
   "execution_count": 2,
   "metadata": {
    "pycharm": {
     "name": "#%%\n"
    }
   },
   "outputs": [
    {
     "name": "stdout",
     "output_type": "stream",
     "text": [
      "Merging train data\n",
      "/shared/3/projects/hiatus/tagged_data/amazon/train_queries.jsonl\n",
      "/shared/3/projects/hiatus/tagged_data/amazon/train_candidates.jsonl\n"
     ]
    },
    {
     "name": "stderr",
     "output_type": "stream",
     "text": [
      "94990it [00:20, 4562.78it/s]\n"
     ]
    },
    {
     "name": "stdout",
     "output_type": "stream",
     "text": [
      "Merging dev data\n",
      "/shared/3/projects/hiatus/tagged_data/amazon/dev_queries.jsonl\n",
      "/shared/3/projects/hiatus/tagged_data/amazon/dev_candidates.jsonl\n"
     ]
    },
    {
     "name": "stderr",
     "output_type": "stream",
     "text": [
      "5699it [00:01, 4665.52it/s]\n"
     ]
    },
    {
     "name": "stdout",
     "output_type": "stream",
     "text": [
      "Merging test data\n",
      "/shared/3/projects/hiatus/tagged_data/amazon/test_queries.jsonl\n",
      "/shared/3/projects/hiatus/tagged_data/amazon/test_candidates.jsonl\n"
     ]
    },
    {
     "name": "stderr",
     "output_type": "stream",
     "text": [
      "11065it [00:02, 4671.11it/s]\n"
     ]
    }
   ],
   "source": [
    "input_paths = ['/shared/3/projects/hiatus/tagged_data/amazon/']\n",
    "output_path = '/shared/3/projects/hiatus/tagged_data/amazon/'\n",
    "               \n",
    "print(\"Merging train data\")\n",
    "train_input_paths = [(os.path.join(p, 'train_queries.jsonl'), os.path.join(p, 'train_candidates.jsonl')) for p in input_paths]\n",
    "merge_datasets(train_input_paths, os.path.join(output_path, 'train.jsonl'))\n",
    "\n",
    "print(\"Merging dev data\")\n",
    "dev_input_paths = [(os.path.join(p, 'dev_queries.jsonl'), os.path.join(p, 'dev_candidates.jsonl')) for p in input_paths]\n",
    "merge_datasets(dev_input_paths, os.path.join(output_path, 'dev.jsonl'))\n",
    "\n",
    "print(\"Merging test data\")\n",
    "test_input_paths = [(os.path.join(p, 'test_queries.jsonl'), os.path.join(p, 'test_candidates.jsonl')) for p in input_paths]\n",
    "merge_datasets(test_input_paths, os.path.join(output_path, 'test.jsonl'))    "
   ]
  },
  {
   "cell_type": "markdown",
   "metadata": {
    "pycharm": {
     "name": "#%% md\n"
    }
   },
   "source": [
    "## Convert To Datasets"
   ]
  },
  {
   "cell_type": "code",
   "execution_count": 3,
   "metadata": {
    "pycharm": {
     "name": "#%%\n"
    }
   },
   "outputs": [
    {
     "name": "stderr",
     "output_type": "stream",
     "text": [
      "Using custom data configuration default-50dd0830eab55973\n"
     ]
    },
    {
     "name": "stdout",
     "output_type": "stream",
     "text": [
      "Creating training dataset...\n",
      "Downloading and preparing dataset json/default to /home/kalkiek/.cache/huggingface/datasets/json/default-50dd0830eab55973/0.0.0/a3e658c4731e59120d44081ac10bf85dc7e1388126b92338344ce9661907f253...\n"
     ]
    },
    {
     "data": {
      "application/json": {
       "ascii": false,
       "bar_format": null,
       "colour": null,
       "elapsed": 0.018351316452026367,
       "initial": 0,
       "n": 0,
       "ncols": null,
       "nrows": 54,
       "postfix": null,
       "prefix": "Downloading data files",
       "rate": null,
       "total": 1,
       "unit": "it",
       "unit_divisor": 1000,
       "unit_scale": false
      },
      "application/vnd.jupyter.widget-view+json": {
       "model_id": "1ceece2db89c41cf9bc79b4f5c7f85a8",
       "version_major": 2,
       "version_minor": 0
      },
      "text/plain": [
       "Downloading data files:   0%|          | 0/1 [00:00<?, ?it/s]"
      ]
     },
     "metadata": {},
     "output_type": "display_data"
    },
    {
     "data": {
      "application/json": {
       "ascii": false,
       "bar_format": null,
       "colour": null,
       "elapsed": 0.003478527069091797,
       "initial": 0,
       "n": 0,
       "ncols": null,
       "nrows": 54,
       "postfix": null,
       "prefix": "Extracting data files",
       "rate": null,
       "total": 1,
       "unit": "it",
       "unit_divisor": 1000,
       "unit_scale": false
      },
      "application/vnd.jupyter.widget-view+json": {
       "model_id": "2609a83804f34f34b3e72c5dda198049",
       "version_major": 2,
       "version_minor": 0
      },
      "text/plain": [
       "Extracting data files:   0%|          | 0/1 [00:00<?, ?it/s]"
      ]
     },
     "metadata": {},
     "output_type": "display_data"
    },
    {
     "data": {
      "application/json": {
       "ascii": false,
       "bar_format": null,
       "colour": null,
       "elapsed": 0.011395692825317383,
       "initial": 0,
       "n": 0,
       "ncols": null,
       "nrows": 54,
       "postfix": null,
       "prefix": "",
       "rate": null,
       "total": null,
       "unit": " tables",
       "unit_divisor": 1000,
       "unit_scale": false
      },
      "application/vnd.jupyter.widget-view+json": {
       "model_id": "",
       "version_major": 2,
       "version_minor": 0
      },
      "text/plain": [
       "0 tables [00:00, ? tables/s]"
      ]
     },
     "metadata": {},
     "output_type": "display_data"
    },
    {
     "name": "stdout",
     "output_type": "stream",
     "text": [
      "Dataset json downloaded and prepared to /home/kalkiek/.cache/huggingface/datasets/json/default-50dd0830eab55973/0.0.0/a3e658c4731e59120d44081ac10bf85dc7e1388126b92338344ce9661907f253. Subsequent calls will reuse this data.\n"
     ]
    },
    {
     "data": {
      "application/json": {
       "ascii": false,
       "bar_format": null,
       "colour": null,
       "elapsed": 0.011095523834228516,
       "initial": 0,
       "n": 0,
       "ncols": null,
       "nrows": 54,
       "postfix": null,
       "prefix": "",
       "rate": null,
       "total": 1,
       "unit": "it",
       "unit_divisor": 1000,
       "unit_scale": false
      },
      "application/vnd.jupyter.widget-view+json": {
       "model_id": "010fcc06b91149a79279a8162383821a",
       "version_major": 2,
       "version_minor": 0
      },
      "text/plain": [
       "  0%|          | 0/1 [00:00<?, ?it/s]"
      ]
     },
     "metadata": {},
     "output_type": "display_data"
    },
    {
     "name": "stderr",
     "output_type": "stream",
     "text": [
      "Using custom data configuration default-5fcf91cb4f281db6\n"
     ]
    },
    {
     "name": "stdout",
     "output_type": "stream",
     "text": [
      "Creating dev dataset...\n",
      "Downloading and preparing dataset json/default to /home/kalkiek/.cache/huggingface/datasets/json/default-5fcf91cb4f281db6/0.0.0/a3e658c4731e59120d44081ac10bf85dc7e1388126b92338344ce9661907f253...\n"
     ]
    },
    {
     "data": {
      "application/json": {
       "ascii": false,
       "bar_format": null,
       "colour": null,
       "elapsed": 0.011662483215332031,
       "initial": 0,
       "n": 0,
       "ncols": null,
       "nrows": 54,
       "postfix": null,
       "prefix": "Downloading data files",
       "rate": null,
       "total": 1,
       "unit": "it",
       "unit_divisor": 1000,
       "unit_scale": false
      },
      "application/vnd.jupyter.widget-view+json": {
       "model_id": "7d2aafa415cd4074810218f54aeef490",
       "version_major": 2,
       "version_minor": 0
      },
      "text/plain": [
       "Downloading data files:   0%|          | 0/1 [00:00<?, ?it/s]"
      ]
     },
     "metadata": {},
     "output_type": "display_data"
    },
    {
     "data": {
      "application/json": {
       "ascii": false,
       "bar_format": null,
       "colour": null,
       "elapsed": 0.0032312870025634766,
       "initial": 0,
       "n": 0,
       "ncols": null,
       "nrows": 54,
       "postfix": null,
       "prefix": "Extracting data files",
       "rate": null,
       "total": 1,
       "unit": "it",
       "unit_divisor": 1000,
       "unit_scale": false
      },
      "application/vnd.jupyter.widget-view+json": {
       "model_id": "e74c6c21d55a47b680a9847828349960",
       "version_major": 2,
       "version_minor": 0
      },
      "text/plain": [
       "Extracting data files:   0%|          | 0/1 [00:00<?, ?it/s]"
      ]
     },
     "metadata": {},
     "output_type": "display_data"
    },
    {
     "data": {
      "application/json": {
       "ascii": false,
       "bar_format": null,
       "colour": null,
       "elapsed": 0.005836009979248047,
       "initial": 0,
       "n": 0,
       "ncols": null,
       "nrows": 54,
       "postfix": null,
       "prefix": "",
       "rate": null,
       "total": null,
       "unit": " tables",
       "unit_divisor": 1000,
       "unit_scale": false
      },
      "application/vnd.jupyter.widget-view+json": {
       "model_id": "",
       "version_major": 2,
       "version_minor": 0
      },
      "text/plain": [
       "0 tables [00:00, ? tables/s]"
      ]
     },
     "metadata": {},
     "output_type": "display_data"
    },
    {
     "name": "stdout",
     "output_type": "stream",
     "text": [
      "Dataset json downloaded and prepared to /home/kalkiek/.cache/huggingface/datasets/json/default-5fcf91cb4f281db6/0.0.0/a3e658c4731e59120d44081ac10bf85dc7e1388126b92338344ce9661907f253. Subsequent calls will reuse this data.\n"
     ]
    },
    {
     "data": {
      "application/json": {
       "ascii": false,
       "bar_format": null,
       "colour": null,
       "elapsed": 0.011612892150878906,
       "initial": 0,
       "n": 0,
       "ncols": null,
       "nrows": 54,
       "postfix": null,
       "prefix": "",
       "rate": null,
       "total": 1,
       "unit": "it",
       "unit_divisor": 1000,
       "unit_scale": false
      },
      "application/vnd.jupyter.widget-view+json": {
       "model_id": "1bcc8bfa63d34606a2cb900efc5adf4f",
       "version_major": 2,
       "version_minor": 0
      },
      "text/plain": [
       "  0%|          | 0/1 [00:00<?, ?it/s]"
      ]
     },
     "metadata": {},
     "output_type": "display_data"
    },
    {
     "name": "stderr",
     "output_type": "stream",
     "text": [
      "Using custom data configuration default-be000cecb0f5b716\n"
     ]
    },
    {
     "name": "stdout",
     "output_type": "stream",
     "text": [
      "Creating test dataset...\n",
      "Downloading and preparing dataset json/default to /home/kalkiek/.cache/huggingface/datasets/json/default-be000cecb0f5b716/0.0.0/a3e658c4731e59120d44081ac10bf85dc7e1388126b92338344ce9661907f253...\n"
     ]
    },
    {
     "data": {
      "application/json": {
       "ascii": false,
       "bar_format": null,
       "colour": null,
       "elapsed": 0.011185407638549805,
       "initial": 0,
       "n": 0,
       "ncols": null,
       "nrows": 54,
       "postfix": null,
       "prefix": "Downloading data files",
       "rate": null,
       "total": 1,
       "unit": "it",
       "unit_divisor": 1000,
       "unit_scale": false
      },
      "application/vnd.jupyter.widget-view+json": {
       "model_id": "124ef97115a046199f65403701044dc6",
       "version_major": 2,
       "version_minor": 0
      },
      "text/plain": [
       "Downloading data files:   0%|          | 0/1 [00:00<?, ?it/s]"
      ]
     },
     "metadata": {},
     "output_type": "display_data"
    },
    {
     "data": {
      "application/json": {
       "ascii": false,
       "bar_format": null,
       "colour": null,
       "elapsed": 0.003315448760986328,
       "initial": 0,
       "n": 0,
       "ncols": null,
       "nrows": 54,
       "postfix": null,
       "prefix": "Extracting data files",
       "rate": null,
       "total": 1,
       "unit": "it",
       "unit_divisor": 1000,
       "unit_scale": false
      },
      "application/vnd.jupyter.widget-view+json": {
       "model_id": "d335697d868741c7bca06dc0ba7ca505",
       "version_major": 2,
       "version_minor": 0
      },
      "text/plain": [
       "Extracting data files:   0%|          | 0/1 [00:00<?, ?it/s]"
      ]
     },
     "metadata": {},
     "output_type": "display_data"
    },
    {
     "data": {
      "application/json": {
       "ascii": false,
       "bar_format": null,
       "colour": null,
       "elapsed": 0.006029605865478516,
       "initial": 0,
       "n": 0,
       "ncols": null,
       "nrows": 54,
       "postfix": null,
       "prefix": "",
       "rate": null,
       "total": null,
       "unit": " tables",
       "unit_divisor": 1000,
       "unit_scale": false
      },
      "application/vnd.jupyter.widget-view+json": {
       "model_id": "",
       "version_major": 2,
       "version_minor": 0
      },
      "text/plain": [
       "0 tables [00:00, ? tables/s]"
      ]
     },
     "metadata": {},
     "output_type": "display_data"
    },
    {
     "name": "stdout",
     "output_type": "stream",
     "text": [
      "Dataset json downloaded and prepared to /home/kalkiek/.cache/huggingface/datasets/json/default-be000cecb0f5b716/0.0.0/a3e658c4731e59120d44081ac10bf85dc7e1388126b92338344ce9661907f253. Subsequent calls will reuse this data.\n"
     ]
    },
    {
     "data": {
      "application/json": {
       "ascii": false,
       "bar_format": null,
       "colour": null,
       "elapsed": 0.010613441467285156,
       "initial": 0,
       "n": 0,
       "ncols": null,
       "nrows": 54,
       "postfix": null,
       "prefix": "",
       "rate": null,
       "total": 1,
       "unit": "it",
       "unit_divisor": 1000,
       "unit_scale": false
      },
      "application/vnd.jupyter.widget-view+json": {
       "model_id": "f9ce034fb40b4db98181f91e1993c11d",
       "version_major": 2,
       "version_minor": 0
      },
      "text/plain": [
       "  0%|          | 0/1 [00:00<?, ?it/s]"
      ]
     },
     "metadata": {},
     "output_type": "display_data"
    }
   ],
   "source": [
    "folder = '/shared/3/projects/hiatus/tagged_data/amazon/'\n",
    "\n",
    "print('Creating training dataset...')\n",
    "train_inpath = os.path.join(folder, 'train.jsonl')\n",
    "train_outpath = os.path.join(folder, 'train')\n",
    "create_dataset(train_inpath, train_outpath)\n",
    "\n",
    "print('Creating dev dataset...')\n",
    "dev_inpath = os.path.join(folder, 'dev.jsonl')\n",
    "dev_outpath = os.path.join(folder, 'dev')\n",
    "create_dataset(dev_inpath, dev_outpath)\n",
    "\n",
    "print('Creating test dataset...')\n",
    "test_inpath = os.path.join(folder, 'test.jsonl')\n",
    "test_outpath = os.path.join(folder, 'test')\n",
    "create_dataset(test_inpath, test_outpath)"
   ]
  }
 ],
 "metadata": {
  "kernelspec": {
   "display_name": "Python 3 (ipykernel)",
   "language": "python",
   "name": "python3"
  },
  "language_info": {
   "codemirror_mode": {
    "name": "ipython",
    "version": 3
   },
   "file_extension": ".py",
   "mimetype": "text/x-python",
   "name": "python",
   "nbconvert_exporter": "python",
   "pygments_lexer": "ipython3",
   "version": "3.9.12"
  }
 },
 "nbformat": 4,
 "nbformat_minor": 1
}