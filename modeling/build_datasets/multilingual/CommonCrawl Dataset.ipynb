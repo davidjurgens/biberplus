{
 "cells": [
  {
   "cell_type": "code",
   "execution_count": 1,
   "id": "3d329bc0",
   "metadata": {
    "pycharm": {
     "name": "#%%\n"
    }
   },
   "outputs": [],
   "source": [
    "import os\n",
    "import lzma\n",
    "import datasets\n",
    "import itertools\n",
    "\n",
    "import numpy as np\n",
    "import pandas as pd\n",
    "\n",
    "from tqdm import tqdm\n",
    "from sklearn.model_selection import train_test_split"
   ]
  },
  {
   "cell_type": "markdown",
   "id": "0b74fa03",
   "metadata": {
    "pycharm": {
     "name": "#%% md\n"
    }
   },
   "source": [
    "## Sample from the CommonCrawl data (minus English)"
   ]
  },
  {
   "cell_type": "code",
   "execution_count": 2,
   "id": "ffdc4ad8",
   "metadata": {
    "pycharm": {
     "name": "#%%\n"
    }
   },
   "outputs": [
    {
     "data": {
      "text/plain": [
       "104"
      ]
     },
     "execution_count": 2,
     "metadata": {},
     "output_type": "execute_result"
    }
   ],
   "source": [
    "input_dir = '/shared/4/datasets/CommonCrawl/'\n",
    "output_dir = '/shared/3/projects/hiatus/multilingual/'\n",
    "code_to_language = {\n",
    "    'af': 'Afrikaans',\n",
    "    'am': 'Amharic',\n",
    "    'ar': 'Arabic',\n",
    "    'as': 'Assamese',\n",
    "    'az': 'Azerbaijani',\n",
    "    'be': 'Belarusian',\n",
    "    'bg': 'Bulgarian',\n",
    "    'bn': 'Bengali',\n",
    "    'br': 'Breton',\n",
    "    'bs': 'Bosnian',\n",
    "    'ca': 'Catalan',\n",
    "    'cs': 'Czech',\n",
    "    'cy': 'Welsh',\n",
    "    'da': 'Danish',\n",
    "    'de': 'German',\n",
    "    'el': 'Greek',\n",
    "    'eo': 'Esperanto',\n",
    "    'es': 'Spanish',\n",
    "    'et': 'Estonian',\n",
    "    'eu': 'Basque',\n",
    "    'fa': 'Persian',\n",
    "    'fi': 'Finnish',\n",
    "    'fr': 'French',\n",
    "    'fy': 'Western Frisian',\n",
    "    'ga': 'Irish',\n",
    "    'gd': 'Scottish Gaelic',\n",
    "    'gl': 'Galician',\n",
    "    'gu': 'Gujarati',\n",
    "    'ha': 'Hausa',\n",
    "    'he': 'Hebrew',\n",
    "    'hi': 'Hindi',\n",
    "    'hr': 'Croatian',\n",
    "    'ht': 'Haitian',\n",
    "    'hu': 'Hungarian',\n",
    "    'hy': 'Armenian',\n",
    "    'id': 'Indonesian',\n",
    "    'ig': 'Igbo',\n",
    "    'is': 'Icelandic',\n",
    "    'it': 'Italian',\n",
    "    'ja': 'Japanese',\n",
    "    'jv': 'Javanese',\n",
    "    'ka': 'Georgian',\n",
    "    'kk': 'Kazakh',\n",
    "    'km': 'Khmer',\n",
    "    'kn': 'Kannada',\n",
    "    'ko': 'Korean',\n",
    "    'ku': 'Kurdish',\n",
    "    'ky': 'Kyrgyz',\n",
    "    'la': 'Latin',\n",
    "    'lg': 'Ganda',\n",
    "    'li': 'Limburgish',\n",
    "    'ln': 'Lingala',\n",
    "    'lo': 'Lao',\n",
    "    'lt': 'Lithuanian',\n",
    "    'lv': 'Latvian',\n",
    "    'mg': 'Malagasy',\n",
    "    'mk': 'Macedonian',\n",
    "    'ml': 'Malayalam',\n",
    "    'mn': 'Mongolian',\n",
    "    'mr': 'Marathi',\n",
    "    'ms': 'Malay',\n",
    "    'my': 'Burmese',\n",
    "    'ne': 'Nepali',\n",
    "    'nl': 'Dutch',\n",
    "    'no': 'Norwegian',\n",
    "    'ns': 'Northern Sotho',\n",
    "    'om': 'Oromo',\n",
    "    'or': 'Odia',\n",
    "    'pa': 'Punjabi',\n",
    "    'pl': 'Polish',\n",
    "    'ps': 'Pashto',\n",
    "    'pt': 'Portuguese',\n",
    "    'qu': 'Quechua',\n",
    "    'rm': 'Romansh',\n",
    "    'ro': 'Romanian',\n",
    "    'ru': 'Russian',\n",
    "    'sa': 'Sanskrit',\n",
    "    'sc': 'Sardinian',\n",
    "    'sd': 'Sindhi',\n",
    "    'si': 'Sinhala',\n",
    "    'sk': 'Slovak',\n",
    "    'sl': 'Slovene',\n",
    "    'so': 'Somali',\n",
    "    'sq': 'Albanian',\n",
    "    'sr': 'Serbian',\n",
    "    'ss': 'Swati',\n",
    "    'su': 'Sundanese',\n",
    "    'sv': 'Swedish',\n",
    "    'sw': 'Swahili',\n",
    "    'ta': 'Tamil',\n",
    "    'te': 'Telugu',\n",
    "    'th': 'Thai',\n",
    "    'tl': 'Tagalog',\n",
    "    'tn': 'Tswana',\n",
    "    'tr': 'Turkish',\n",
    "    'ug': 'Uighur',\n",
    "    'uk': 'Ukrainian',\n",
    "    'ur': 'Urdu',\n",
    "    'vi': 'Vietnamese',\n",
    "    'wo': 'Wolof',\n",
    "    'xh': 'Xhosa',\n",
    "    'yi': 'Yiddish',\n",
    "    'yo': 'Yoruba',\n",
    "    'zu': 'Zulu',\n",
    "}\n",
    "\n",
    "len(code_to_language)"
   ]
  },
  {
   "cell_type": "code",
   "execution_count": 3,
   "id": "d3c061cd",
   "metadata": {
    "pycharm": {
     "name": "#%%\n"
    }
   },
   "outputs": [
    {
     "name": "stderr",
     "output_type": "stream",
     "text": [
      "100%|█████████████████████████████████████████████████████████████████████████████████████████████████████████████████████████████████████████████████████████████████████| 104/104 [03:03<00:00,  1.76s/it]\n"
     ]
    }
   ],
   "source": [
    "sample_per_language = 250000\n",
    "language_rows = []\n",
    "\n",
    "def get_samples():\n",
    "    for code, language in tqdm(code_to_language.items()):\n",
    "        fp = os.path.join(input_dir, f\"{code}.txt.xz\")\n",
    "        with lzma.open(fp, \"rt\") as file:\n",
    "            sample_count = 0\n",
    "            for line in file:\n",
    "                if len(line.strip()) > 100:\n",
    "                    yield {\n",
    "                        'code': code,\n",
    "                        'language': language,\n",
    "                        'text': line.strip()\n",
    "                    }\n",
    "                    sample_count += 1\n",
    "                    if sample_count >= sample_per_language:\n",
    "                        break\n",
    "\n",
    "language_rows = get_samples()           \n",
    "languages_df = pd.DataFrame(language_rows)"
   ]
  },
  {
   "cell_type": "code",
   "execution_count": 4,
   "id": "635eebb5",
   "metadata": {
    "pycharm": {
     "name": "#%%\n"
    }
   },
   "outputs": [
    {
     "data": {
      "text/html": [
       "<div>\n",
       "<style scoped>\n",
       "    .dataframe tbody tr th:only-of-type {\n",
       "        vertical-align: middle;\n",
       "    }\n",
       "\n",
       "    .dataframe tbody tr th {\n",
       "        vertical-align: top;\n",
       "    }\n",
       "\n",
       "    .dataframe thead th {\n",
       "        text-align: right;\n",
       "    }\n",
       "</style>\n",
       "<table border=\"1\" class=\"dataframe\">\n",
       "  <thead>\n",
       "    <tr style=\"text-align: right;\">\n",
       "      <th></th>\n",
       "      <th>code</th>\n",
       "      <th>language</th>\n",
       "      <th>text</th>\n",
       "    </tr>\n",
       "  </thead>\n",
       "  <tbody>\n",
       "    <tr>\n",
       "      <th>0</th>\n",
       "      <td>ga</td>\n",
       "      <td>Irish</td>\n",
       "      <td>b) cosaintí nach bhfuil de ghnáth \"tar éis tré...</td>\n",
       "    </tr>\n",
       "    <tr>\n",
       "      <th>1</th>\n",
       "      <td>sw</td>\n",
       "      <td>Swahili</td>\n",
       "      <td>Waandishi kutoka vyombo mbalimbali vya habari,...</td>\n",
       "    </tr>\n",
       "    <tr>\n",
       "      <th>2</th>\n",
       "      <td>ta</td>\n",
       "      <td>Tamil</td>\n",
       "      <td>வன்னியில் வளம் மிக்க பிரதேசங்களைப் உயர் பாதுகா...</td>\n",
       "    </tr>\n",
       "    <tr>\n",
       "      <th>3</th>\n",
       "      <td>ja</td>\n",
       "      <td>Japanese</td>\n",
       "      <td>12月12日(火)雪が降っています。「私、雪が好きなの」とつぶやいているお年寄りがおられまし...</td>\n",
       "    </tr>\n",
       "    <tr>\n",
       "      <th>4</th>\n",
       "      <td>ms</td>\n",
       "      <td>Malay</td>\n",
       "      <td>ABDUL Khalid Ibrahim (tengah) bersama Exco Sel...</td>\n",
       "    </tr>\n",
       "  </tbody>\n",
       "</table>\n",
       "</div>"
      ],
      "text/plain": [
       "  code  language                                               text\n",
       "0   ga     Irish  b) cosaintí nach bhfuil de ghnáth \"tar éis tré...\n",
       "1   sw   Swahili  Waandishi kutoka vyombo mbalimbali vya habari,...\n",
       "2   ta     Tamil  வன்னியில் வளம் மிக்க பிரதேசங்களைப் உயர் பாதுகா...\n",
       "3   ja  Japanese  12月12日(火)雪が降っています。「私、雪が好きなの」とつぶやいているお年寄りがおられまし...\n",
       "4   ms     Malay  ABDUL Khalid Ibrahim (tengah) bersama Exco Sel..."
      ]
     },
     "execution_count": 4,
     "metadata": {},
     "output_type": "execute_result"
    }
   ],
   "source": [
    "languages_df = languages_df.sample(frac=1).reset_index(drop=True)\n",
    "languages_df.head()"
   ]
  },
  {
   "cell_type": "code",
   "execution_count": 5,
   "id": "68ff8e1d",
   "metadata": {
    "pycharm": {
     "name": "#%%\n"
    }
   },
   "outputs": [
    {
     "data": {
      "text/plain": [
       "22766983"
      ]
     },
     "execution_count": 5,
     "metadata": {},
     "output_type": "execute_result"
    }
   ],
   "source": [
    "len(languages_df)"
   ]
  },
  {
   "cell_type": "code",
   "execution_count": 6,
   "id": "91599cb8",
   "metadata": {
    "pycharm": {
     "name": "#%%\n"
    }
   },
   "outputs": [],
   "source": [
    "# Save the result\n",
    "out_file = os.path.join(output_dir, 'language_text_samples.parquet.gzip')\n",
    "languages_df.to_parquet(out_file, compression='gzip')"
   ]
  },
  {
   "cell_type": "markdown",
   "id": "95bedf8c",
   "metadata": {
    "pycharm": {
     "name": "#%% md\n"
    }
   },
   "source": [
    "## Convert to dataset files"
   ]
  },
  {
   "cell_type": "code",
   "execution_count": 7,
   "id": "29ac3d4a",
   "metadata": {
    "pycharm": {
     "name": "#%%\n"
    }
   },
   "outputs": [
    {
     "name": "stdout",
     "output_type": "stream",
     "text": [
      "19351935 1161116 2253932\n"
     ]
    }
   ],
   "source": [
    "train, test = train_test_split(languages_df, test_size=0.15)\n",
    "dev, test = train_test_split(test, test_size=0.66)\n",
    "print(len(train), len(dev), len(test))"
   ]
  },
  {
   "cell_type": "code",
   "execution_count": 8,
   "id": "4657b8e8",
   "metadata": {
    "pycharm": {
     "name": "#%%\n"
    }
   },
   "outputs": [],
   "source": [
    "train_dataset = datasets.Dataset.from_pandas(train)\n",
    "dev_dataset = datasets.Dataset.from_pandas(dev)\n",
    "test_dataset = datasets.Dataset.from_pandas(test)"
   ]
  },
  {
   "cell_type": "code",
   "execution_count": 9,
   "id": "5197ab9a",
   "metadata": {
    "pycharm": {
     "name": "#%%\n"
    }
   },
   "outputs": [
    {
     "name": "stdout",
     "output_type": "stream",
     "text": [
      "/shared/3/projects/hiatus/multilingual/train.jsonl\n"
     ]
    }
   ],
   "source": [
    "train_out = os.path.join(output_dir, 'train.jsonl')\n",
    "dev_out = os.path.join(output_dir, 'dev.jsonl')\n",
    "test_out = os.path.join(output_dir, 'test.jsonl')\n",
    "print(train_out)"
   ]
  },
  {
   "cell_type": "code",
   "execution_count": 10,
   "id": "d16011b8",
   "metadata": {
    "pycharm": {
     "name": "#%%\n"
    }
   },
   "outputs": [
    {
     "data": {
      "application/json": {
       "ascii": false,
       "bar_format": null,
       "colour": null,
       "elapsed": 0.004778385162353516,
       "initial": 0,
       "n": 0,
       "ncols": null,
       "nrows": 54,
       "postfix": null,
       "prefix": "Creating json from Arrow format",
       "rate": null,
       "total": 1936,
       "unit": "ba",
       "unit_divisor": 1000,
       "unit_scale": false
      },
      "application/vnd.jupyter.widget-view+json": {
       "model_id": "e2c7825bd921485d94d044b0eb8a2ff9",
       "version_major": 2,
       "version_minor": 0
      },
      "text/plain": [
       "Creating json from Arrow format:   0%|          | 0/1936 [00:00<?, ?ba/s]"
      ]
     },
     "metadata": {},
     "output_type": "display_data"
    },
    {
     "data": {
      "application/json": {
       "ascii": false,
       "bar_format": null,
       "colour": null,
       "elapsed": 0.004483222961425781,
       "initial": 0,
       "n": 0,
       "ncols": null,
       "nrows": 54,
       "postfix": null,
       "prefix": "Creating json from Arrow format",
       "rate": null,
       "total": 117,
       "unit": "ba",
       "unit_divisor": 1000,
       "unit_scale": false
      },
      "application/vnd.jupyter.widget-view+json": {
       "model_id": "6602271db8854359bf03e3fc73f7e44d",
       "version_major": 2,
       "version_minor": 0
      },
      "text/plain": [
       "Creating json from Arrow format:   0%|          | 0/117 [00:00<?, ?ba/s]"
      ]
     },
     "metadata": {},
     "output_type": "display_data"
    },
    {
     "data": {
      "application/json": {
       "ascii": false,
       "bar_format": null,
       "colour": null,
       "elapsed": 0.003760814666748047,
       "initial": 0,
       "n": 0,
       "ncols": null,
       "nrows": 54,
       "postfix": null,
       "prefix": "Creating json from Arrow format",
       "rate": null,
       "total": 226,
       "unit": "ba",
       "unit_divisor": 1000,
       "unit_scale": false
      },
      "application/vnd.jupyter.widget-view+json": {
       "model_id": "f2f8457025044cb7a516d083046f9f16",
       "version_major": 2,
       "version_minor": 0
      },
      "text/plain": [
       "Creating json from Arrow format:   0%|          | 0/226 [00:00<?, ?ba/s]"
      ]
     },
     "metadata": {},
     "output_type": "display_data"
    },
    {
     "data": {
      "text/plain": [
       "1869878854"
      ]
     },
     "execution_count": 10,
     "metadata": {},
     "output_type": "execute_result"
    }
   ],
   "source": [
    "train_dataset.to_json(train_out, orient='records', lines=True)\n",
    "dev_dataset.to_json(dev_out, orient='records', lines=True)\n",
    "test_dataset.to_json(test_out, orient='records', lines=True)"
   ]
  },
  {
   "cell_type": "code",
   "execution_count": 11,
   "id": "ba900732",
   "metadata": {
    "pycharm": {
     "name": "#%%\n"
    }
   },
   "outputs": [
    {
     "data": {
      "text/plain": [
       "19351935"
      ]
     },
     "execution_count": 11,
     "metadata": {},
     "output_type": "execute_result"
    }
   ],
   "source": [
    "len(train_dataset)"
   ]
  }
 ],
 "metadata": {
  "kernelspec": {
   "display_name": "Python 3 (ipykernel)",
   "language": "python",
   "name": "python3"
  },
  "language_info": {
   "codemirror_mode": {
    "name": "ipython",
    "version": 3
   },
   "file_extension": ".py",
   "mimetype": "text/x-python",
   "name": "python",
   "nbconvert_exporter": "python",
   "pygments_lexer": "ipython3",
   "version": "3.9.12"
  }
 },
 "nbformat": 4,
 "nbformat_minor": 5
}