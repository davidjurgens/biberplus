{
 "cells": [
  {
   "cell_type": "markdown",
   "id": "56320d92",
   "metadata": {},
   "source": [
    "# Reddit Spanish Sample\n",
    "\n",
    "Run the Python script to generate a list of pandas files with Spanish comments from Reddit before running this notebook"
   ]
  },
  {
   "cell_type": "code",
   "execution_count": 1,
   "id": "8f6413f4",
   "metadata": {},
   "outputs": [],
   "source": [
    "import os \n",
    "\n",
    "import numpy as np\n",
    "import pandas as pd\n",
    "\n",
    "from glob import glob"
   ]
  },
  {
   "cell_type": "markdown",
   "id": "d2583507",
   "metadata": {},
   "source": [
    "## Build a single sample file with 10k posts from each subreddit"
   ]
  },
  {
   "cell_type": "code",
   "execution_count": 3,
   "id": "3fe419c2",
   "metadata": {},
   "outputs": [
    {
     "data": {
      "text/plain": [
       "11"
      ]
     },
     "execution_count": 3,
     "metadata": {},
     "output_type": "execute_result"
    }
   ],
   "source": [
    "input_directory = '/shared/3/projects/hiatus/multilingual/reddit-spanish/'\n",
    "out_file = os.path.join(input_directory, 'spanish_subreddit_samples.parquet.gzip')\n",
    "parquet_files = glob(input_directory + '*.gzip')\n",
    "len(parquet_files)"
   ]
  },
  {
   "cell_type": "code",
   "execution_count": 4,
   "id": "00153314",
   "metadata": {},
   "outputs": [
    {
     "data": {
      "text/html": [
       "<div>\n",
       "<style scoped>\n",
       "    .dataframe tbody tr th:only-of-type {\n",
       "        vertical-align: middle;\n",
       "    }\n",
       "\n",
       "    .dataframe tbody tr th {\n",
       "        vertical-align: top;\n",
       "    }\n",
       "\n",
       "    .dataframe thead th {\n",
       "        text-align: right;\n",
       "    }\n",
       "</style>\n",
       "<table border=\"1\" class=\"dataframe\">\n",
       "  <thead>\n",
       "    <tr style=\"text-align: right;\">\n",
       "      <th></th>\n",
       "      <th>file</th>\n",
       "      <th>author</th>\n",
       "      <th>subreddit</th>\n",
       "      <th>created_utc</th>\n",
       "      <th>link_id</th>\n",
       "      <th>parent_id</th>\n",
       "      <th>text</th>\n",
       "    </tr>\n",
       "  </thead>\n",
       "  <tbody>\n",
       "    <tr>\n",
       "      <th>0</th>\n",
       "      <td>/shared/2/datasets/reddit-dump-all/RC/RC_2023-...</td>\n",
       "      <td>[deleted]</td>\n",
       "      <td>chile</td>\n",
       "      <td>1.672531e+09</td>\n",
       "      <td>t3_1001o85</td>\n",
       "      <td>t1_j2fxalg</td>\n",
       "      <td>[removed]</td>\n",
       "    </tr>\n",
       "    <tr>\n",
       "      <th>1</th>\n",
       "      <td>/shared/2/datasets/reddit-dump-all/RC/RC_2023-...</td>\n",
       "      <td>Tierrrez</td>\n",
       "      <td>chile</td>\n",
       "      <td>1.672531e+09</td>\n",
       "      <td>t3_1006r7b</td>\n",
       "      <td>t3_1006r7b</td>\n",
       "      <td>no se si la calidad del video te permite ver b...</td>\n",
       "    </tr>\n",
       "    <tr>\n",
       "      <th>2</th>\n",
       "      <td>/shared/2/datasets/reddit-dump-all/RC/RC_2023-...</td>\n",
       "      <td>conrick</td>\n",
       "      <td>mexico</td>\n",
       "      <td>1.672531e+09</td>\n",
       "      <td>t3_1002np5</td>\n",
       "      <td>t3_1002np5</td>\n",
       "      <td>Le salio mal el capricho.</td>\n",
       "    </tr>\n",
       "  </tbody>\n",
       "</table>\n",
       "</div>"
      ],
      "text/plain": [
       "                                                file     author subreddit  \\\n",
       "0  /shared/2/datasets/reddit-dump-all/RC/RC_2023-...  [deleted]     chile   \n",
       "1  /shared/2/datasets/reddit-dump-all/RC/RC_2023-...   Tierrrez     chile   \n",
       "2  /shared/2/datasets/reddit-dump-all/RC/RC_2023-...    conrick    mexico   \n",
       "\n",
       "    created_utc     link_id   parent_id  \\\n",
       "0  1.672531e+09  t3_1001o85  t1_j2fxalg   \n",
       "1  1.672531e+09  t3_1006r7b  t3_1006r7b   \n",
       "2  1.672531e+09  t3_1002np5  t3_1002np5   \n",
       "\n",
       "                                                text  \n",
       "0                                          [removed]  \n",
       "1  no se si la calidad del video te permite ver b...  \n",
       "2                          Le salio mal el capricho.  "
      ]
     },
     "execution_count": 4,
     "metadata": {},
     "output_type": "execute_result"
    }
   ],
   "source": [
    "frames = []\n",
    "\n",
    "for fp in parquet_files:\n",
    "    frames.append(pd.read_parquet(fp))\n",
    "\n",
    "df = pd.concat(frames)\n",
    "df.head(3)"
   ]
  },
  {
   "cell_type": "code",
   "execution_count": 5,
   "id": "4afd9925",
   "metadata": {},
   "outputs": [
    {
     "data": {
      "text/plain": [
       "3628240"
      ]
     },
     "execution_count": 5,
     "metadata": {},
     "output_type": "execute_result"
    }
   ],
   "source": [
    "len(df)"
   ]
  },
  {
   "cell_type": "code",
   "execution_count": 6,
   "id": "16b45fde",
   "metadata": {},
   "outputs": [],
   "source": [
    "df = df[['author', 'subreddit', 'text']]"
   ]
  },
  {
   "cell_type": "code",
   "execution_count": 7,
   "id": "897bdd61",
   "metadata": {},
   "outputs": [
    {
     "data": {
      "text/plain": [
       "320824"
      ]
     },
     "execution_count": 7,
     "metadata": {},
     "output_type": "execute_result"
    }
   ],
   "source": [
    "# Assume df is your DataFrame\n",
    "sampled_df = df.groupby('subreddit').apply(lambda x: x.sample(n=min(len(x), 10000), random_state=42)).reset_index(drop=True)\n",
    "len(sampled_df)"
   ]
  },
  {
   "cell_type": "code",
   "execution_count": 8,
   "id": "4f3f365c",
   "metadata": {},
   "outputs": [],
   "source": [
    "sampled_df.to_parquet(out_file, compression='gzip')"
   ]
  },
  {
   "cell_type": "code",
   "execution_count": 9,
   "id": "3bbd9bb6",
   "metadata": {},
   "outputs": [
    {
     "data": {
      "text/plain": [
       "{'ArgEntos': 10000,\n",
       " 'Panama': 10000,\n",
       " 'PuertoRico': 10000,\n",
       " 'SpainPolitics': 10000,\n",
       " 'SquarePosting': 10000,\n",
       " 'argentina': 10000,\n",
       " 'chile': 10000,\n",
       " 'dankgentina': 10000,\n",
       " 'ecuador': 10000,\n",
       " 'es': 10000,\n",
       " 'espanol': 10000,\n",
       " 'memexico': 10000,\n",
       " 'mexico': 10000,\n",
       " 'preguntaleareddit': 10000,\n",
       " 'spain': 10000,\n",
       " 'uruguay': 10000,\n",
       " 'vzla': 10000,\n",
       " 'Paraguay': 10000,\n",
       " 'yo_elvr': 10000,\n",
       " 'PERU': 10000,\n",
       " 'LigaMX': 10000,\n",
       " 'Colombia': 10000,\n",
       " 'Mujico': 10000,\n",
       " 'Asi_va_Espana': 10000,\n",
       " 'BOLIVIA': 10000,\n",
       " 'MAAU': 10000,\n",
       " 'Ticos': 9594,\n",
       " 'WriteStreakES': 8276,\n",
       " 'Dominican': 8015,\n",
       " 'Spanishhelp': 7021,\n",
       " 'Desahogo': 4395,\n",
       " 'RedditPregunta': 3948,\n",
       " 'programacion': 3345,\n",
       " 'fulbo': 2456,\n",
       " 'LaLiga': 2297,\n",
       " 'VideojuegosMX': 1763,\n",
       " 'futbol': 1645,\n",
       " 'latinoamerica': 1360,\n",
       " 'yo_ctm': 1350,\n",
       " 'videojuego': 774,\n",
       " 'libros': 706,\n",
       " 'redditores': 613,\n",
       " 'HistoriasdeTerror': 590,\n",
       " 'HistoriasDeReddit': 510,\n",
       " 'filosofia_en_espanol': 505,\n",
       " 'fisica': 434,\n",
       " 'latinos': 387,\n",
       " 'cuentaleareddit': 195,\n",
       " 'Cinefilos': 142,\n",
       " 'futbolmx': 116,\n",
       " 'ChileCringe': 91,\n",
       " 'ciencia': 68,\n",
       " 'chistes': 61,\n",
       " 'estadosunidos': 47,\n",
       " 'mexicocirclejerk': 44,\n",
       " 'mapassincanarias': 42,\n",
       " 'LaRoja': 10,\n",
       " 'relaciones': 8,\n",
       " 'ArgenBeauty': 8,\n",
       " 'ConsejosDePareja': 4,\n",
       " 'chairos': 2,\n",
       " 'webcomicsenespanol': 2}"
      ]
     },
     "execution_count": 9,
     "metadata": {},
     "output_type": "execute_result"
    }
   ],
   "source": [
    "sampled_df['subreddit'].value_counts().to_dict()"
   ]
  }
 ],
 "metadata": {
  "kernelspec": {
   "display_name": "Python 3 (ipykernel)",
   "language": "python",
   "name": "python3"
  },
  "language_info": {
   "codemirror_mode": {
    "name": "ipython",
    "version": 3
   },
   "file_extension": ".py",
   "mimetype": "text/x-python",
   "name": "python",
   "nbconvert_exporter": "python",
   "pygments_lexer": "ipython3",
   "version": "3.9.12"
  }
 },
 "nbformat": 4,
 "nbformat_minor": 5
}
