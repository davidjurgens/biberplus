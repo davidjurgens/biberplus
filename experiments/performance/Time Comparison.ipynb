{
 "cells": [
  {
   "cell_type": "code",
   "execution_count": 7,
   "metadata": {},
   "outputs": [
    {
     "ename": "",
     "evalue": "",
     "output_type": "error",
     "traceback": [
      "\u001b[1;31mFailed to connect to the remote Jupyter Server 'http://taco.si.umich.edu:8888/'. Verify the server is running and reachable. (Kernel not initialized in Session)."
     ]
    }
   ],
   "source": [
    "import os\n",
    "import sys\n",
    "import time\n",
    "\n",
    "os.environ[\"CUDA_VISIBLE_DEVICES\"] = \"1\"\n",
    "\n",
    "import json\n",
    "import numpy as np \n",
    "import pandas as pd\n",
    "\n",
    "from tqdm import tqdm\n",
    "\n",
    "data_dir = \"/shared/3/projects/hiatus/tagged_data\"\n",
    "\n",
    "datasets = [\n",
    "    'amazon',\n",
    "    'reddit',\n",
    "    'gmane',\n",
    "    'book3corpus',\n",
    "    'ao3',\n",
    "    'wiki',\n",
    "    'wiki_discussions'\n",
    "]"
   ]
  },
  {
   "cell_type": "code",
   "execution_count": 4,
   "metadata": {},
   "outputs": [
    {
     "name": "stderr",
     "output_type": "stream",
     "text": [
      "Loading datasets: 100%|████████████████████████████████████████████████████████████████████████████████████████| 7/7 [00:00<00:00,  8.07it/s]\n"
     ]
    }
   ],
   "source": [
    "N_SAMPLES = 100\n",
    "all_texts = []\n",
    "\n",
    "for dataset in tqdm(datasets, desc=\"Loading datasets\"):\n",
    "    dataset_path = os.path.join(data_dir, dataset)\n",
    "    \n",
    "    # Read first N samples from corpus.jsonl\n",
    "    with open(os.path.join(dataset_path, \"corpus.jsonl\"), 'r') as f:\n",
    "        for i, line in enumerate(f):\n",
    "            if i >= N_SAMPLES:\n",
    "                break\n",
    "            sample = json.loads(line)\n",
    "            all_texts.append(sample['fullText']) "
   ]
  },
  {
   "cell_type": "code",
   "execution_count": 6,
   "metadata": {},
   "outputs": [
    {
     "name": "stdout",
     "output_type": "stream",
     "text": [
      "Average token length: 291.57 tokens\n",
      "\n",
      "Distribution statistics:\n",
      "Min: 48\n",
      "Max: 1245\n",
      "Median: 131.0\n",
      "Std dev: 304.72\n"
     ]
    }
   ],
   "source": [
    "token_lengths = [len(text.split()) for text in all_texts]\n",
    "avg_token_length = np.mean(token_lengths)\n",
    "print(f\"Average token length: {avg_token_length:.2f} tokens\")\n",
    "\n",
    "# Optional: Show distribution statistics\n",
    "print(f\"\\nDistribution statistics:\")\n",
    "print(f\"Min: {np.min(token_lengths)}\")\n",
    "print(f\"Max: {np.max(token_lengths)}\")\n",
    "print(f\"Median: {np.median(token_lengths)}\")\n",
    "print(f\"Std dev: {np.std(token_lengths):.2f}\")"
   ]
  },
  {
   "cell_type": "markdown",
   "metadata": {},
   "source": [
    "**BiberPlus**"
   ]
  },
  {
   "cell_type": "code",
   "execution_count": 10,
   "metadata": {},
   "outputs": [
    {
     "ename": "ValueError",
     "evalue": "Cannot use GPU, CuPy is not installed",
     "output_type": "error",
     "traceback": [
      "\u001b[0;31m---------------------------------------------------------------------------\u001b[0m",
      "\u001b[0;31mValueError\u001b[0m                                Traceback (most recent call last)",
      "Cell \u001b[0;32mIn[10], line 18\u001b[0m\n\u001b[1;32m     10\u001b[0m config \u001b[38;5;241m=\u001b[39m load_config()\n\u001b[1;32m     12\u001b[0m config\u001b[38;5;241m.\u001b[39mupdate({\n\u001b[1;32m     13\u001b[0m     \u001b[38;5;124m'\u001b[39m\u001b[38;5;124muse_gpu\u001b[39m\u001b[38;5;124m'\u001b[39m: \u001b[38;5;28;01mTrue\u001b[39;00m, \n\u001b[1;32m     14\u001b[0m     \u001b[38;5;124m'\u001b[39m\u001b[38;5;124mn_processes\u001b[39m\u001b[38;5;124m'\u001b[39m: \u001b[38;5;241m4\u001b[39m, \n\u001b[1;32m     15\u001b[0m     \u001b[38;5;124m'\u001b[39m\u001b[38;5;124mfunction_words\u001b[39m\u001b[38;5;124m'\u001b[39m: \u001b[38;5;28;01mFalse\u001b[39;00m,\n\u001b[1;32m     16\u001b[0m     \u001b[38;5;124m'\u001b[39m\u001b[38;5;124mtoken_normalization\u001b[39m\u001b[38;5;124m'\u001b[39m: \u001b[38;5;241m100\u001b[39m,\n\u001b[1;32m     17\u001b[0m     })\n\u001b[0;32m---> 18\u001b[0m pipeline \u001b[38;5;241m=\u001b[39m load_pipeline(config)\n\u001b[1;32m     20\u001b[0m \u001b[38;5;28mprint\u001b[39m(\u001b[38;5;124m\"\u001b[39m\u001b[38;5;124mConfiguration loaded:\u001b[39m\u001b[38;5;124m\"\u001b[39m)\n\u001b[1;32m     21\u001b[0m \u001b[38;5;28mprint\u001b[39m(json\u001b[38;5;241m.\u001b[39mdumps(config, indent\u001b[38;5;241m=\u001b[39m\u001b[38;5;241m2\u001b[39m))\n",
      "File \u001b[0;32m~/projects/biber-multidimensional-register-analysis/biberplus/tagger/tagger_utils.py:39\u001b[0m, in \u001b[0;36mload_pipeline\u001b[0;34m(config)\u001b[0m\n\u001b[1;32m     37\u001b[0m \u001b[38;5;28;01mdef\u001b[39;00m \u001b[38;5;21mload_pipeline\u001b[39m(config):\n\u001b[1;32m     38\u001b[0m     \u001b[38;5;28;01mif\u001b[39;00m config[\u001b[38;5;124m'\u001b[39m\u001b[38;5;124muse_gpu\u001b[39m\u001b[38;5;124m'\u001b[39m]:\n\u001b[0;32m---> 39\u001b[0m         spacy\u001b[38;5;241m.\u001b[39mrequire_gpu()\n\u001b[1;32m     41\u001b[0m     \u001b[38;5;28;01mreturn\u001b[39;00m spacy\u001b[38;5;241m.\u001b[39mload(\u001b[38;5;124m\"\u001b[39m\u001b[38;5;124men_core_web_sm\u001b[39m\u001b[38;5;124m\"\u001b[39m, disable\u001b[38;5;241m=\u001b[39m[\u001b[38;5;124m'\u001b[39m\u001b[38;5;124mparser\u001b[39m\u001b[38;5;124m'\u001b[39m, \u001b[38;5;124m'\u001b[39m\u001b[38;5;124mlemmatizer\u001b[39m\u001b[38;5;124m'\u001b[39m, \u001b[38;5;124m'\u001b[39m\u001b[38;5;124mner\u001b[39m\u001b[38;5;124m'\u001b[39m, \u001b[38;5;124m'\u001b[39m\u001b[38;5;124mtextcat\u001b[39m\u001b[38;5;124m'\u001b[39m])\n",
      "File \u001b[0;32m/opt/anaconda/lib/python3.12/site-packages/thinc/util.py:230\u001b[0m, in \u001b[0;36mrequire_gpu\u001b[0;34m(gpu_id)\u001b[0m\n\u001b[1;32m    228\u001b[0m     \u001b[38;5;28;01mraise\u001b[39;00m \u001b[38;5;167;01mValueError\u001b[39;00m(\u001b[38;5;124m\"\u001b[39m\u001b[38;5;124mCannot use GPU, PyTorch is not installed\u001b[39m\u001b[38;5;124m\"\u001b[39m)\n\u001b[1;32m    229\u001b[0m \u001b[38;5;28;01melif\u001b[39;00m platform\u001b[38;5;241m.\u001b[39msystem() \u001b[38;5;241m!=\u001b[39m \u001b[38;5;124m\"\u001b[39m\u001b[38;5;124mDarwin\u001b[39m\u001b[38;5;124m\"\u001b[39m \u001b[38;5;129;01mand\u001b[39;00m \u001b[38;5;129;01mnot\u001b[39;00m has_cupy:\n\u001b[0;32m--> 230\u001b[0m     \u001b[38;5;28;01mraise\u001b[39;00m \u001b[38;5;167;01mValueError\u001b[39;00m(\u001b[38;5;124m\"\u001b[39m\u001b[38;5;124mCannot use GPU, CuPy is not installed\u001b[39m\u001b[38;5;124m\"\u001b[39m)\n\u001b[1;32m    231\u001b[0m \u001b[38;5;28;01melif\u001b[39;00m \u001b[38;5;129;01mnot\u001b[39;00m has_gpu:\n\u001b[1;32m    232\u001b[0m     \u001b[38;5;28;01mraise\u001b[39;00m \u001b[38;5;167;01mValueError\u001b[39;00m(\u001b[38;5;124m\"\u001b[39m\u001b[38;5;124mNo GPU devices detected\u001b[39m\u001b[38;5;124m\"\u001b[39m)\n",
      "\u001b[0;31mValueError\u001b[0m: Cannot use GPU, CuPy is not installed"
     ]
    }
   ],
   "source": [
    "os.chdir('/home/kalkiek/projects/biber-multidimensional-register-analysis/')\n",
    "\n",
    "# Add parent directory to system path to allow imports\n",
    "sys.path.append(os.path.dirname(os.path.dirname(os.getcwd())))\n",
    "\n",
    "# Import required functions\n",
    "from biberplus.tagger import load_config, load_pipeline, calculate_tag_frequencies, tag_text\n",
    "\n",
    "# Load and print config\n",
    "config = load_config()\n",
    "\n",
    "config.update({\n",
    "    'use_gpu': True, \n",
    "    'n_processes': 4, \n",
    "    'function_words': False,\n",
    "    'token_normalization': 100,\n",
    "    })\n",
    "pipeline = load_pipeline(config)\n",
    "\n",
    "print(\"Configuration loaded:\")\n",
    "print(json.dumps(config, indent=2))"
   ]
  },
  {
   "cell_type": "code",
   "execution_count": null,
   "metadata": {},
   "outputs": [],
   "source": [
    "start_time = time.time()\n",
    "tagged_texts = []\n",
    "\n",
    "for text in tqdm(all_texts, desc=\"Tagging texts\"):\n",
    "    tagged_words = tag_text(text, pipeline=pipeline)\n",
    "    tagged_texts.append(tagged_words)\n",
    "\n",
    "total_time = time.time() - start_time\n",
    "avg_time = total_time / len(all_texts)\n",
    "\n",
    "print(f\"\\nTotal time: {total_time:.2f} seconds\")\n",
    "print(f\"Average time per text: {avg_time:.2f} seconds\")"
   ]
  },
  {
   "cell_type": "markdown",
   "metadata": {},
   "source": [
    "**Neurobiber**"
   ]
  },
  {
   "cell_type": "code",
   "execution_count": null,
   "metadata": {},
   "outputs": [],
   "source": [
    "# Import Neurobiber tagger from modeling/neurobiber/tagger\n",
    "# Load model and tokenizer\n",
    "# Use get_predictions\n",
    "# Print total time for all_texts \n"
   ]
  },
  {
   "cell_type": "markdown",
   "metadata": {},
   "source": [
    "**Open Source MDA**\n",
    "\n",
    "Cannot run directly in the server\n",
    "\n",
    "- Install from https://github.com/andreanini/multidimensionalanalysistagger"
   ]
  },
  {
   "cell_type": "code",
   "execution_count": null,
   "metadata": {},
   "outputs": [],
   "source": []
  }
 ],
 "metadata": {
  "kernelspec": {
   "display_name": "cupy",
   "language": "python",
   "name": "cupy"
  }
 },
 "nbformat": 4,
 "nbformat_minor": 2
}
