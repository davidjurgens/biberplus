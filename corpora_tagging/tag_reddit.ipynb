{
  "cells": [
    {
      "cell_type": "code",
      "execution_count": null,
      "metadata": {
        "scrolled": true
      },
      "outputs": [],
      "source": [
        "import sys\n",
        "sys.path.append('../')\n",
        "import os\n",
        "from data_partitioner import *\n",
        "from parallel_tagging import *\n",
        "from biberplus.tagger import load_config\n",
        "from biberplus.tagger.tagger_utils import load_tokenizer"
      ]
    },
    {
      "cell_type": "code",
      "execution_count": null,
      "metadata": {},
      "outputs": [],
      "source": [
        "file_name = 'RC_2019-11.gz'"
      ]
    },
    {
      "cell_type": "code",
      "execution_count": null,
      "metadata": {},
      "outputs": [],
      "source": [
        "input_path = os.path.join('/shared/4/datasets/long-reddit/', file_name)\n",
        "partition_dir = os.path.join('/shared/3/projects/hiatus/tagged_data/partitions/reddit', file_name.split('.')[0]) \n",
        "tag_dir = os.path.join('/shared/3/projects/hiatus/tagged_data/partitions/tagged-reddit', file_name.split('.')[0])\n",
        "output_dir= '/shared/3/projects/hiatus/tagged_data/long-reddit/'\n",
        "    \n",
        "# ensures all directories will exist\n",
        "for directory in [partition_dir, tag_dir, output_dir]:\n",
        "    os.makedirs(directory, exist_ok=True)\n",
        "\n",
        "# initialize author subreddit dictionary\n",
        "author_subreddit_counts = {}\n"
      ]
    },
    {
      "cell_type": "markdown",
      "metadata": {},
      "source": [
        "## Partition the file into 100 parts"
      ]
    },
    {
      "cell_type": "code",
      "execution_count": null,
      "metadata": {
        "scrolled": true
      },
      "outputs": [],
      "source": [
        "%%time\n",
        "partition_file(input_path, partition_dir, chunks=100)"
      ]
    },
    {
      "cell_type": "markdown",
      "metadata": {},
      "source": [
        "## Tag each partition with 1 CPU \n",
        "\n",
        "Set nice value low so we don't hog the server\n",
        "\n",
        "**Tagger config**"
      ]
    },
    {
      "cell_type": "code",
      "execution_count": null,
      "metadata": {},
      "outputs": [],
      "source": [
        "config = load_config()\n",
        "config.update({'use_gpu': False, \n",
        "               'biber': True,\n",
        "               'binary_tags': True, \n",
        "               'function_words': True,\n",
        "               'token_normalization': 100})\n",
        "tokenizer = load_tokenizer(use_gpu=False)\n",
        "config"
      ]
    },
    {
      "cell_type": "code",
      "execution_count": null,
      "metadata": {},
      "outputs": [],
      "source": [
        "%%time\n",
        "import warnings\n",
        "\n",
        "# Suppress future warnings\n",
        "warnings.simplefilter(action='ignore', category=FutureWarning)\n",
        "\n",
        "tag_partitions(config,\n",
        "               input_directory=partition_dir,\n",
        "               output_directory=tag_dir,\n",
        "               num_workers=101,\n",
        "               post_counts=author_subreddit_counts,\n",
        "               default_niceness=0\n",
        "               )"
      ]
    },
    {
      "cell_type": "code",
      "execution_count": null,
      "metadata": {},
      "outputs": [],
      "source": []
    },
    {
      "cell_type": "code",
      "execution_count": null,
      "metadata": {},
      "outputs": [],
      "source": [
        "%%time\n",
        "output_tsv = output_dir + file_name.split('.')[0] + '-counts.tsv'\n",
        "# Write the post counts to a TSV file\n",
        "write_to_tsv(author_subreddit_counts, output_tsv)"
      ]
    },
    {
      "cell_type": "markdown",
      "metadata": {},
      "source": [
        "## Join the partitioned files"
      ]
    },
    {
      "cell_type": "code",
      "execution_count": null,
      "metadata": {},
      "outputs": [],
      "source": [
        "join_tagged_files(input_directory=tag_dir,\n",
        "                  output_file=os.path.join(output_dir, file_name))"
      ]
    },
    {
      "cell_type": "markdown",
      "metadata": {},
      "source": [
        "## Delete the temp directories"
      ]
    },
    {
      "cell_type": "code",
      "execution_count": null,
      "metadata": {},
      "outputs": [],
      "source": [
        "delete_partitioned_files(partition_dir)\n",
        "delete_partitioned_files(tag_dir)"
      ]
    }
  ],
  "metadata": {
    "kernelspec": {
      "display_name": "Python 3 (ipykernel)",
      "language": "python",
      "name": "python3"
    },
    "language_info": {
      "codemirror_mode": {
        "name": "ipython",
        "version": 3
      },
      "file_extension": ".py",
      "mimetype": "text/x-python",
      "name": "python",
      "nbconvert_exporter": "python",
      "pygments_lexer": "ipython3",
      "version": "3.11.5"
    }
  },
  "nbformat": 4,
  "nbformat_minor": 4
}