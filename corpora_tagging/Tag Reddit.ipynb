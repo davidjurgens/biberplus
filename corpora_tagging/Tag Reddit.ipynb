{
 "cells": [
  {
   "cell_type": "code",
   "execution_count": 1,
   "metadata": {},
   "outputs": [
    {
     "name": "stderr",
     "output_type": "stream",
     "text": [
      "INFO:numexpr.utils:Note: detected 160 virtual cores but NumExpr set to maximum of 64, check \"NUMEXPR_MAX_THREADS\" environment variable.\n",
      "INFO:numexpr.utils:Note: NumExpr detected 160 cores but \"NUMEXPR_MAX_THREADS\" not set, so enforcing safe limit of 8.\n",
      "INFO:numexpr.utils:NumExpr defaulting to 8 threads.\n"
     ]
    }
   ],
   "source": [
    "import sys\n",
    "sys.path.append('../')\n",
    "\n",
    "from data_partitioner import *\n",
    "from parallel_tagging import *\n",
    "from biberplus.tagger import load_config, load_pipeline, calculate_tag_frequencies\n",
    "from biberplus.reducer import encode_text\n",
    "from biberplus.tagger.tagger_utils import load_tokenizer\n",
    "# import gzip"
   ]
  },
  {
   "cell_type": "code",
   "execution_count": 2,
   "metadata": {},
   "outputs": [],
   "source": [
    "author_subreddit_counts = {}"
   ]
  },
  {
   "cell_type": "code",
   "execution_count": 3,
   "metadata": {},
   "outputs": [],
   "source": [
    "# with gzip.open('/shared/4/datasets/long-reddit/RC_2022-01.gz', 'rb') as f:\n",
    "#     # Decompress and decode the file\n",
    "#     decompressed_data = f.read().decode('utf-8')\n",
    "    \n",
    "#     # Split the data into individual samples based on newline delimiter\n",
    "#     samples = decompressed_data.split('\\n')\n",
    "    \n",
    "#     # Iterate over individual samples\n",
    "#     for sample in samples:\n",
    "#         # Process each sample here\n",
    "#         print(sample)\n",
    "#         break"
   ]
  },
  {
   "cell_type": "markdown",
   "metadata": {},
   "source": [
    "## Partition the file into 100 parts"
   ]
  },
  {
   "cell_type": "code",
   "execution_count": 4,
   "metadata": {},
   "outputs": [],
   "source": [
    "input_file = '/shared/4/datasets/long-reddit/RC_2022-02.gz'\n",
    "output_directory = '/shared/3/projects/hiatus/tagged_data/partitions/reddit'"
   ]
  },
  {
   "cell_type": "code",
   "execution_count": null,
   "metadata": {},
   "outputs": [
    {
     "name": "stderr",
     "output_type": "stream",
     "text": [
      "INFO:root:1685373 lines in file\n",
      "INFO:root:Chunk size: 16854 lines\n",
      "INFO:root:Saving /shared/3/projects/hiatus/tagged_data/partitions/reddit/partition-1.jsonl.gz\n",
      "INFO:root:Saving /shared/3/projects/hiatus/tagged_data/partitions/reddit/partition-2.jsonl.gz\n",
      "INFO:root:Saving /shared/3/projects/hiatus/tagged_data/partitions/reddit/partition-3.jsonl.gz\n",
      "INFO:root:Saving /shared/3/projects/hiatus/tagged_data/partitions/reddit/partition-4.jsonl.gz\n",
      "INFO:root:Saving /shared/3/projects/hiatus/tagged_data/partitions/reddit/partition-5.jsonl.gz\n",
      "INFO:root:Saving /shared/3/projects/hiatus/tagged_data/partitions/reddit/partition-6.jsonl.gz\n"
     ]
    }
   ],
   "source": [
    "partition_file(input_file, output_directory, chunks=100)"
   ]
  },
  {
   "cell_type": "markdown",
   "metadata": {},
   "source": [
    "## Tag each partition with 1 CPU \n",
    "\n",
    "Set nice value low so we don't hog the server\n",
    "\n",
    "**Tagger config**"
   ]
  },
  {
   "cell_type": "code",
   "execution_count": null,
   "metadata": {},
   "outputs": [],
   "source": [
    "config = load_config()\n",
    "config.update({'use_gpu': False, \n",
    "               'biber': True,\n",
    "               'binary_tags': True, \n",
    "               'function_words': True,\n",
    "               'token_normalization': 100})\n",
    "tokenizer = load_tokenizer(use_gpu=False)\n",
    "config"
   ]
  },
  {
   "cell_type": "code",
   "execution_count": null,
   "metadata": {},
   "outputs": [],
   "source": [
    "%%time\n",
    "import warnings\n",
    "\n",
    "# Suppress future warnings\n",
    "warnings.simplefilter(action='ignore', category=FutureWarning)\n",
    "\n",
    "tag_partitions(config,\n",
    "               input_directory='/shared/3/projects/hiatus/tagged_data/partitions/reddit/',\n",
    "               output_directory='/shared/3/projects/hiatus/tagged_data/long-reddit/',\n",
    "               num_workers=50,\n",
    "               post_counts=author_subreddit_counts,\n",
    "               default_niceness=-1\n",
    "               )"
   ]
  },
  {
   "cell_type": "code",
   "execution_count": null,
   "metadata": {},
   "outputs": [],
   "source": [
    "%%time\n",
    "\n",
    "# Write the post counts to a TSV file\n",
    "write_counts_to_tsv(author_subreddit_counts, \"/shared/3/projects/hiatus/tagged_data/long-reddit/author_counts.tsv\")"
   ]
  },
  {
   "cell_type": "markdown",
   "metadata": {},
   "source": [
    "## Join the partitioned files"
   ]
  },
  {
   "cell_type": "code",
   "execution_count": null,
   "metadata": {},
   "outputs": [],
   "source": [
    "join_tagged_files(input_directory='/shared/2/projects/hiatus/partitions/reddit/',\n",
    "                  ouput_file='/shared/3/projects/hiatus/reddit/corpus_tagged.jsonl')"
   ]
  },
  {
   "cell_type": "markdown",
   "metadata": {},
   "source": [
    "## Delete the partitions directory"
   ]
  },
  {
   "cell_type": "code",
   "execution_count": null,
   "metadata": {},
   "outputs": [],
   "source": [
    "delete_partitioned_files('/shared/2/projects/hiatus/partitions/reddit/')"
   ]
  },
  {
   "cell_type": "code",
   "execution_count": null,
   "metadata": {},
   "outputs": [],
   "source": [
    "delete_partitioned_files('/shared/3/projects/hiatus/partitions/reddit/')"
   ]
  }
 ],
 "metadata": {
  "kernelspec": {
   "display_name": "Python 3 (ipykernel)",
   "language": "python",
   "name": "python3"
  },
  "language_info": {
   "codemirror_mode": {
    "name": "ipython",
    "version": 3
   },
   "file_extension": ".py",
   "mimetype": "text/x-python",
   "name": "python",
   "nbconvert_exporter": "python",
   "pygments_lexer": "ipython3",
   "version": "3.11.5"
  }
 },
 "nbformat": 4,
 "nbformat_minor": 4
}
