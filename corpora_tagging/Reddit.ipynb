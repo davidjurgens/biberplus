{
 "cells": [
  {
   "cell_type": "code",
   "execution_count": null,
   "outputs": [],
   "source": [
    "import os\n",
    "import sys\n",
    "import jsonlines\n",
    "\n",
    "sys.path.append('../')\n",
    "\n",
    "from tqdm import tqdm\n",
    "from glob import glob\n",
    "from multiprocessing import Pool\n",
    "from bibermda.tagger import load_config, load_pipeline, calculate_tag_frequencies\n",
    "from bibermda.reducer import encode_text\n",
    "from bibermda.tagger.tagger_utils import load_tokenizer"
   ],
   "metadata": {
    "collapsed": false,
    "pycharm": {
     "name": "#%%\n"
    }
   }
  },
  {
   "cell_type": "markdown",
   "source": [
    "## Partition the file into 100 parts"
   ],
   "metadata": {
    "collapsed": false,
    "pycharm": {
     "name": "#%% md\n"
    }
   }
  },
  {
   "cell_type": "code",
   "execution_count": null,
   "outputs": [],
   "source": [
    "!wc -l /shared/3/projects/hiatus/reddit/corpus.jsonl"
   ],
   "metadata": {
    "collapsed": false,
    "pycharm": {
     "name": "#%%\n"
    }
   }
  },
  {
   "cell_type": "code",
   "execution_count": null,
   "outputs": [],
   "source": [
    "def partition_file(input_file, output_directory, chunks=100):\n",
    "    lines = count_lines(input_file)\n",
    "    print(\"{} lines in file\".format(lines))\n",
    "    chunk_size = round(lines / chunks)\n",
    "    print(\"Chunk size: {} lines\".format(chunk_size))\n",
    "    count, chunk = 0, 1\n",
    "    curr_lines = []\n",
    "    \n",
    "    with jsonlines.open(input_file) as reader:\n",
    "        for obj in reader:\n",
    "            curr_lines.append(obj)\n",
    "            count += 1\n",
    "            if count >= chunk_size:\n",
    "                save_partition(curr_lines, output_directory, index=chunk)\n",
    "                count, curr_lines = 0, []\n",
    "                chunk += 1\n",
    "                \n",
    "    if curr_lines:\n",
    "        save_partition(curr_lines, output_directory, index=chunk+1)\n",
    "    \n",
    "\n",
    "def save_partition(json_lines, output_directory, index):\n",
    "    out = output_directory + \"partition-{}.jsonl\".format(index) \n",
    "    print(\"Saving {}\".format(out))\n",
    "    with jsonlines.open(out, mode='w') as writer:\n",
    "        writer.write_all(json_lines) \n",
    "\n",
    "        \n",
    "def count_lines(input_file):\n",
    "    return sum(1 for i in open(input_file, 'rb'))"
   ],
   "metadata": {
    "collapsed": false,
    "pycharm": {
     "name": "#%%\n"
    }
   }
  },
  {
   "cell_type": "code",
   "execution_count": null,
   "outputs": [],
   "source": [
    "output_directory = '/shared/3/projects/hiatus/partitions/reddit/'\n",
    "input_file = '/shared/3/projects/hiatus/reddit/corpus.jsonl'\n",
    "partition_file(input_file, output_directory, chunks=100)"
   ],
   "metadata": {
    "collapsed": false,
    "pycharm": {
     "name": "#%%\n"
    }
   }
  },
  {
   "cell_type": "markdown",
   "source": [
    "## Tag each partition with 1 CPU \n",
    "\n",
    "Set nice value low so we don't hog the server\n",
    "\n",
    "**Tagger config**"
   ],
   "metadata": {
    "collapsed": false,
    "pycharm": {
     "name": "#%% md\n"
    }
   }
  },
  {
   "cell_type": "code",
   "execution_count": null,
   "outputs": [],
   "source": [
    "config = load_config()\n",
    "config.update({'use_gpu': False, \n",
    "               'biber': True,\n",
    "               'binary_tags': True, \n",
    "               'function_words': True,\n",
    "               'token_normalization': 100})\n",
    "tokenizer = load_tokenizer(use_gpu=False)\n",
    "config"
   ],
   "metadata": {
    "collapsed": false,
    "pycharm": {
     "name": "#%%\n"
    }
   }
  },
  {
   "cell_type": "code",
   "execution_count": null,
   "outputs": [],
   "source": [
    "def tag_partition(config, input_file, output_file):\n",
    "    print(\"Tagging file \" + input_file)\n",
    "    with jsonlines.open(input_file) as reader:\n",
    "        with jsonlines.open(output_file, mode='w') as writer:\n",
    "            for obj in reader:\n",
    "                try:\n",
    "                    num_tokens = len(tokenizer(obj['fullText']))\n",
    "                    obj['num_tokens'] = num_tokens\n",
    "                    if num_tokens >= 10:\n",
    "                        obj['encodings'] = encode_text(text=obj['fullText'], config=config)\n",
    "                except Exception:\n",
    "                    pass\n",
    "                writer.write(obj)"
   ],
   "metadata": {
    "collapsed": false,
    "pycharm": {
     "name": "#%%\n"
    }
   }
  },
  {
   "cell_type": "code",
   "execution_count": null,
   "outputs": [],
   "source": [
    "NICENESS = 20\n",
    "WORKERS = 100\n",
    "process_args = []\n",
    "partition_files = glob(output_directory + \"*.jsonl\")\n",
    "\n",
    "for fp in partition_files:\n",
    "    fname = fp.rsplit('/')[-1].replace('.jsonl', '') + '-tagged.jsonl'\n",
    "    out = output_directory + fname\n",
    "    process_args.append((config, fp, out))\n",
    "    \n",
    "len(process_args)"
   ],
   "metadata": {
    "collapsed": false,
    "pycharm": {
     "name": "#%%\n"
    }
   }
  },
  {
   "cell_type": "code",
   "execution_count": null,
   "outputs": [],
   "source": [
    "def set_nicesness():\n",
    "    _ = os.nice(NICENESS) \n",
    "\n",
    "with Pool(WORKERS, initializer=set_nicesness) as p:\n",
    "    p.starmap(tag_partition, process_args)"
   ],
   "metadata": {
    "collapsed": false,
    "pycharm": {
     "name": "#%%\n"
    }
   }
  },
  {
   "cell_type": "markdown",
   "source": [
    "## Join the partioned files into a single file"
   ],
   "metadata": {
    "collapsed": false,
    "pycharm": {
     "name": "#%% md\n"
    }
   }
  },
  {
   "cell_type": "code",
   "execution_count": null,
   "outputs": [],
   "source": [
    "def join_tagged_files(input_directory, output_file):\n",
    "    tagged_files = glob(input_directory + \"*-tagged.jsonl\")\n",
    "    with jsonlines.open(output_file, mode='w') as writer:\n",
    "        for tagged_file in tqdm(tagged_files):\n",
    "            with jsonlines.open(tagged_file) as reader:\n",
    "                for obj in reader:\n",
    "                    writer.write(obj)"
   ],
   "metadata": {
    "collapsed": false,
    "pycharm": {
     "name": "#%%\n"
    }
   }
  },
  {
   "cell_type": "code",
   "execution_count": null,
   "outputs": [],
   "source": [
    "input_directory = '/shared/3/projects/hiatus/partitions/reddit/'\n",
    "output_file = '/shared/3/projects/hiatus/reddit/corpus-tagged.jsonl'"
   ],
   "metadata": {
    "collapsed": false,
    "pycharm": {
     "name": "#%%\n"
    }
   }
  },
  {
   "cell_type": "markdown",
   "source": [
    "## Delete all the partioned files\n",
    "\n",
    "Delete the directory itself"
   ],
   "metadata": {
    "collapsed": false,
    "pycharm": {
     "name": "#%% md\n"
    }
   }
  },
  {
   "cell_type": "code",
   "execution_count": null,
   "outputs": [],
   "source": [
    "# !rm -r /shared/3/projects/hiatus/partitions/reddit"
   ],
   "metadata": {
    "collapsed": false,
    "pycharm": {
     "name": "#%%\n"
    }
   }
  },
  {
   "cell_type": "markdown",
   "id": "4ec42810",
   "metadata": {},
   "source": [
    "## Partition the file into 100 parts"
   ]
  },
  {
   "cell_type": "code",
   "execution_count": null,
   "id": "04414bf8",
   "metadata": {},
   "outputs": [],
   "source": [
    "!wc -l /shared/3/projects/hiatus/reddit/corpus.jsonl"
   ]
  },
  {
   "cell_type": "code",
   "execution_count": null,
   "id": "f1b09cc4",
   "metadata": {},
   "outputs": [],
   "source": [
    "def partition_file(input_file, output_directory, chunks=100):\n",
    "    lines = count_lines(input_file)\n",
    "    print(\"{} lines in file\".format(lines))\n",
    "    chunk_size = round(lines / chunks)\n",
    "    print(\"Chunk size: {} lines\".format(chunk_size))\n",
    "    count, chunk = 0, 1\n",
    "    curr_lines = []\n",
    "    \n",
    "    with jsonlines.open(input_file) as reader:\n",
    "        for obj in reader:\n",
    "            curr_lines.append(obj)\n",
    "            count += 1\n",
    "            if count >= chunk_size:\n",
    "                save_partition(curr_lines, output_directory, index=chunk)\n",
    "                count, curr_lines = 0, []\n",
    "                chunk += 1\n",
    "                \n",
    "    if curr_lines:\n",
    "        save_partition(curr_lines, output_directory, index=chunk+1)\n",
    "    \n",
    "\n",
    "def save_partition(json_lines, output_directory, index):\n",
    "    out = output_directory + \"partition-{}.jsonl\".format(index) \n",
    "    print(\"Saving {}\".format(out))\n",
    "    with jsonlines.open(out, mode='w') as writer:\n",
    "        writer.write_all(json_lines) \n",
    "\n",
    "        \n",
    "def count_lines(input_file):\n",
    "    return sum(1 for i in open(input_file, 'rb'))"
   ]
  },
  {
   "cell_type": "code",
   "execution_count": null,
   "id": "fd00c1cf",
   "metadata": {
    "scrolled": true
   },
   "outputs": [],
   "source": [
    "output_directory = '/shared/3/projects/hiatus/partitions/reddit/'\n",
    "input_file = '/shared/3/projects/hiatus/reddit/corpus.jsonl'\n",
    "partition_file(input_file, output_directory, chunks=100)"
   ]
  },
  {
   "cell_type": "markdown",
   "id": "29f0968a",
   "metadata": {},
   "source": [
    "## Tag each partition with 1 CPU \n",
    "\n",
    "Set nice value low so we don't hog the server\n",
    "\n",
    "**Tagger config**"
   ]
  },
  {
   "cell_type": "code",
   "execution_count": null,
   "id": "5ea364f8",
   "metadata": {},
   "outputs": [],
   "source": [
    "config = load_config()\n",
    "config.update({'use_gpu': False, \n",
    "               'biber': True,\n",
    "               'binary_tags': True, \n",
    "               'function_words': True,\n",
    "               'token_normalization': 100})\n",
    "tokenizer = load_tokenizer(use_gpu=False)\n",
    "config"
   ]
  },
  {
   "cell_type": "code",
   "execution_count": null,
   "id": "c22e0b2b",
   "metadata": {},
   "outputs": [],
   "source": [
    "def tag_partition(config, input_file, output_file):\n",
    "    print(\"Tagging file \" + input_file)\n",
    "    with jsonlines.open(input_file) as reader:\n",
    "        with jsonlines.open(output_file, mode='w') as writer:\n",
    "            for obj in reader:\n",
    "                try:\n",
    "                    num_tokens = len(tokenizer(obj['fullText']))\n",
    "                    obj['num_tokens'] = num_tokens\n",
    "                    if num_tokens >= 10:\n",
    "                        obj['encodings'] = encode_text(text=obj['fullText'], config=config)\n",
    "                except Exception:\n",
    "                    pass\n",
    "                writer.write(obj)"
   ]
  },
  {
   "cell_type": "code",
   "execution_count": null,
   "id": "c9b1a453",
   "metadata": {},
   "outputs": [],
   "source": [
    "NICENESS = 20\n",
    "WORKERS = 100\n",
    "process_args = []\n",
    "partition_files = glob(output_directory + \"*.jsonl\")\n",
    "\n",
    "for fp in partition_files:\n",
    "    fname = fp.rsplit('/')[-1].replace('.jsonl', '') + '-tagged.jsonl'\n",
    "    out = output_directory + fname\n",
    "    process_args.append((config, fp, out))\n",
    "    \n",
    "len(process_args)"
   ]
  },
  {
   "cell_type": "code",
   "execution_count": null,
   "id": "cdde1b04",
   "metadata": {},
   "outputs": [],
   "source": [
    "def set_nicesness():\n",
    "    _ = os.nice(NICENESS) \n",
    "\n",
    "with Pool(WORKERS, initializer=set_nicesness) as p:\n",
    "    p.starmap(tag_partition, process_args)"
   ]
  },
  {
   "cell_type": "markdown",
   "id": "fed79826",
   "metadata": {},
   "source": [
    "## Join the partioned files into a single file"
   ]
  },
  {
   "cell_type": "code",
   "execution_count": null,
   "id": "c0a1ba02",
   "metadata": {},
   "outputs": [],
   "source": [
    "def join_tagged_files(input_directory, output_file):\n",
    "    tagged_files = glob(input_directory + \"*-tagged.jsonl\")\n",
    "    with jsonlines.open(output_file, mode='w') as writer:\n",
    "        for tagged_file in tqdm(tagged_files):\n",
    "            with jsonlines.open(tagged_file) as reader:\n",
    "                for obj in reader:\n",
    "                    writer.write(obj)"
   ]
  },
  {
   "cell_type": "code",
   "execution_count": null,
   "id": "2bc1743d",
   "metadata": {},
   "outputs": [],
   "source": [
    "input_directory = '/shared/3/projects/hiatus/partitions/reddit/'\n",
    "output_file = '/shared/3/projects/hiatus/reddit/corpus-tagged.jsonl'"
   ]
  },
  {
   "cell_type": "markdown",
   "id": "4a66e5f2",
   "metadata": {},
   "source": [
    "## Delete all the partioned files\n",
    "\n",
    "Delete the directory itself"
   ]
  },
  {
   "cell_type": "code",
   "execution_count": null,
   "id": "7e7fcf7a",
   "metadata": {},
   "outputs": [],
   "source": [
    "# !rm -r /shared/3/projects/hiatus/partitions/reddit"
   ]
  }
 ],
 "metadata": {
  "kernelspec": {
   "display_name": "cupy",
   "language": "python",
   "name": "cupy"
  },
  "language_info": {
   "codemirror_mode": {
    "name": "ipython",
    "version": 3
   },
   "file_extension": ".py",
   "mimetype": "text/x-python",
   "name": "python",
   "nbconvert_exporter": "python",
   "pygments_lexer": "ipython3",
   "version": "3.9.16"
  }
 },
 "nbformat": 4,
 "nbformat_minor": 5
}